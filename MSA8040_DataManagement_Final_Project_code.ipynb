{
 "cells": [
  {
   "cell_type": "markdown",
   "id": "69dac2ad",
   "metadata": {},
   "source": [
    "# Data Management For Analytics (MSA 8040) Final Project <br>"
   ]
  },
  {
   "cell_type": "code",
   "execution_count": 1,
   "id": "4a2cf924",
   "metadata": {
    "ExecuteTime": {
     "end_time": "2022-11-19T18:16:13.548729Z",
     "start_time": "2022-11-19T18:16:10.911240Z"
    }
   },
   "outputs": [
    {
     "name": "stdout",
     "output_type": "stream",
     "text": [
      "^C\n",
      "Note: you may need to restart the kernel to use updated packages.\n"
     ]
    }
   ],
   "source": [
    "pip install selenium==3.14.0"
   ]
  },
  {
   "cell_type": "code",
   "execution_count": 3,
   "id": "54bf62ce",
   "metadata": {
    "ExecuteTime": {
     "end_time": "2022-11-19T18:16:15.529358Z",
     "start_time": "2022-11-19T18:16:15.474504Z"
    }
   },
   "outputs": [],
   "source": [
    "import os\n",
    "import re\n",
    "import time\n",
    "import csv\n",
    "import json\n",
    "import random\n",
    "import requests\n",
    "import pandas as pd\n",
    "import numpy as np\n",
    "\n",
    "from selenium import webdriver #helps in implementing browsers \n",
    "from selenium.webdriver.chrome.service import Service\n",
    "from selenium.webdriver.common.keys import Keys # give us access to enter and esc keys to send enter or escc keys to page\n",
    "from selenium.webdriver.common.by import By\n",
    "import time as tim\n",
    "from selenium.webdriver.support.ui import WebDriverWait \n",
    "#An explicit wait is a code you define to wait for a certain condition to occur before proceeding further in the cod\n",
    "from selenium.webdriver.support import expected_conditions as EC "
   ]
  },
  {
   "cell_type": "code",
   "execution_count": 7,
   "id": "36953d4e",
   "metadata": {
    "ExecuteTime": {
     "end_time": "2022-11-19T18:25:31.096687Z",
     "start_time": "2022-11-19T18:25:27.705569Z"
    }
   },
   "outputs": [],
   "source": [
    "options = webdriver.ChromeOptions()\n",
    "options.headless = False\n",
    "browser = webdriver.Chrome(executable_path = '/Users/arunk/Downloads/chromedriver',chrome_options = options)"
   ]
  },
  {
   "cell_type": "code",
   "execution_count": 115,
   "id": "6bdd3ca3",
   "metadata": {
    "ExecuteTime": {
     "end_time": "2021-12-03T23:55:12.147430Z",
     "start_time": "2021-12-03T23:55:11.077368Z"
    }
   },
   "outputs": [],
   "source": [
    "chrome_options = webdriver.ChromeOptions()\n",
    "chrome_options.headless = True\n",
    "browser = webdriver.Chrome(\n",
    "executable_path = '/Users/arunk/Downloads/chromedriver',\n",
    "    chrome_options = chrome_options)"
   ]
  },
  {
   "cell_type": "code",
   "execution_count": 3,
   "id": "3a40d2ab",
   "metadata": {
    "ExecuteTime": {
     "end_time": "2021-12-13T07:08:10.862849Z",
     "start_time": "2021-12-13T07:08:10.833925Z"
    }
   },
   "outputs": [
    {
     "data": {
      "text/html": [
       "<div>\n",
       "<style scoped>\n",
       "    .dataframe tbody tr th:only-of-type {\n",
       "        vertical-align: middle;\n",
       "    }\n",
       "\n",
       "    .dataframe tbody tr th {\n",
       "        vertical-align: top;\n",
       "    }\n",
       "\n",
       "    .dataframe thead th {\n",
       "        text-align: right;\n",
       "    }\n",
       "</style>\n",
       "<table border=\"1\" class=\"dataframe\">\n",
       "  <thead>\n",
       "    <tr style=\"text-align: right;\">\n",
       "      <th></th>\n",
       "      <th>ticker</th>\n",
       "    </tr>\n",
       "  </thead>\n",
       "  <tbody>\n",
       "    <tr>\n",
       "      <th>0</th>\n",
       "      <td>GPC</td>\n",
       "    </tr>\n",
       "    <tr>\n",
       "      <th>1</th>\n",
       "      <td>ALV</td>\n",
       "    </tr>\n",
       "    <tr>\n",
       "      <th>2</th>\n",
       "      <td>GNTX</td>\n",
       "    </tr>\n",
       "    <tr>\n",
       "      <th>3</th>\n",
       "      <td>VNE</td>\n",
       "    </tr>\n",
       "    <tr>\n",
       "      <th>4</th>\n",
       "      <td>TOWR</td>\n",
       "    </tr>\n",
       "  </tbody>\n",
       "</table>\n",
       "</div>"
      ],
      "text/plain": [
       "  ticker\n",
       "0    GPC\n",
       "1    ALV\n",
       "2   GNTX\n",
       "3    VNE\n",
       "4   TOWR"
      ]
     },
     "execution_count": 3,
     "metadata": {},
     "output_type": "execute_result"
    }
   ],
   "source": [
    "tickers_df = pd.read_csv('C:/Users/arunk/Downloads/msa8040_final_project_ticker_list.csv')\n",
    "tickers_df.head()"
   ]
  },
  {
   "cell_type": "code",
   "execution_count": null,
   "id": "5febb7fb",
   "metadata": {},
   "outputs": [],
   "source": []
  },
  {
   "cell_type": "code",
   "execution_count": 301,
   "id": "6f7fcedd",
   "metadata": {
    "ExecuteTime": {
     "end_time": "2021-12-04T22:30:58.822370Z",
     "start_time": "2021-12-04T22:30:58.818381Z"
    }
   },
   "outputs": [],
   "source": [
    "qtr_yr = ['fq3-2021','fq2-2021','fq1-2021','fq4-2020']"
   ]
  },
  {
   "cell_type": "code",
   "execution_count": 302,
   "id": "34a52a14",
   "metadata": {
    "ExecuteTime": {
     "end_time": "2021-12-04T22:31:01.348666Z",
     "start_time": "2021-12-04T22:31:01.333708Z"
    }
   },
   "outputs": [],
   "source": [
    "tick = str.lower('EHTH')\n",
    "qtr_yr = 'fq3-2021'\n",
    "link = 'https://www.estimize.com/'+tick+'/'+qtr_yr+'?metric_name=eps&chart=historical'\n"
   ]
  },
  {
   "cell_type": "code",
   "execution_count": 4,
   "id": "0f26274d",
   "metadata": {
    "ExecuteTime": {
     "end_time": "2021-12-13T07:08:21.478849Z",
     "start_time": "2021-12-13T07:08:21.465915Z"
    }
   },
   "outputs": [],
   "source": [
    "import random\n",
    "random.seed(46)\n",
    "ticks=random.sample(list(tickers_df.ticker), 50)"
   ]
  },
  {
   "cell_type": "markdown",
   "id": "1a03dbfb",
   "metadata": {},
   "source": [
    "### 2a Company Information"
   ]
  },
  {
   "cell_type": "code",
   "execution_count": 1079,
   "id": "4e94b197",
   "metadata": {
    "ExecuteTime": {
     "end_time": "2021-12-08T22:36:26.550761Z",
     "start_time": "2021-12-08T22:36:26.537800Z"
    }
   },
   "outputs": [
    {
     "data": {
      "text/plain": [
       "50"
      ]
     },
     "execution_count": 1079,
     "metadata": {},
     "output_type": "execute_result"
    }
   ],
   "source": [
    "len(ticks)"
   ]
  },
  {
   "cell_type": "code",
   "execution_count": 1080,
   "id": "858f0074",
   "metadata": {
    "ExecuteTime": {
     "end_time": "2021-12-08T22:39:34.284333Z",
     "start_time": "2021-12-08T22:36:28.062717Z"
    }
   },
   "outputs": [],
   "source": [
    "tick = ticks\n",
    "\n",
    "tickers=[]\n",
    "names=[]\n",
    "sectors=[]\n",
    "industries=[]\n",
    "number_of_followers=[]\n",
    "number_of_analysts=[]\n",
    "\n",
    "options = webdriver.ChromeOptions()\n",
    "options.headless = False\n",
    "browser = webdriver.Chrome(executable_path = '/Users/arunk/Downloads/chromedriver',chrome_options = options)\n",
    "link = 'https://www.estimize.com/edge'\n",
    "browser.get(link)\n",
    "\n",
    "for i in tick:\n",
    "\n",
    "    search = browser.find_element_by_name('search') #return an object with value name 'search'\n",
    "    search.send_keys(i) #feed search bar with text in the search bar\n",
    "    search.send_keys(Keys.RETURN)\n",
    "    \n",
    "    time.sleep(3)\n",
    "    \n",
    "    ticker = browser. (\"//*[@id='releases_show']/div[2]/div[2]/div/div[1]/div/div/div/div[1]/h1/a\").text\n",
    "    tickers.append(ticker)\n",
    "    name = browser.find_element_by_xpath(\"//*[@id='releases_show']/div[2]/div[2]/div/div[1]/div/div/div/div[1]/p/a\").text\n",
    "    names.append(name)\n",
    "    sector =  browser.find_element_by_xpath(\"//*[@id='releases_show']/div[2]/div[2]/div/div[1]/div/div/div/p/span[1]/a/span\").text\n",
    "    sectors.append(sector)\n",
    "    ind = browser.find_element_by_xpath('//*[@id=\"releases_show\"]/div[2]/div[2]/div/div[1]/div/div/div/p/span[2]/a/span').text\n",
    "    industries.append(ind)\n",
    "    numb_of_followers = browser.find_element_by_xpath(\"//*[@id='summary-stats']/div/div/div[1]/div[2]\").text\n",
    "    number_of_followers.append(numb_of_followers)\n",
    "    numb_of_analysts = browser.find_element_by_xpath(\"//*[@id='summary-stats']/div/div/div[2]/a\").text\n",
    "    number_of_analysts.append(numb_of_analysts)\n",
    "    \n",
    "    \n"
   ]
  },
  {
   "cell_type": "code",
   "execution_count": 1082,
   "id": "2da28c42",
   "metadata": {
    "ExecuteTime": {
     "end_time": "2021-12-08T22:39:37.766417Z",
     "start_time": "2021-12-08T22:39:37.760434Z"
    }
   },
   "outputs": [],
   "source": [
    "company = pd.DataFrame(list(zip(tickers,names,sectors,industries,number_of_followers,number_of_analysts)),\n",
    "               columns =['tickers','names','sectors','industries','number_of_followers','number_of_analysts'])"
   ]
  },
  {
   "cell_type": "code",
   "execution_count": 1083,
   "id": "3a1e0835",
   "metadata": {
    "ExecuteTime": {
     "end_time": "2021-12-08T22:39:38.345066Z",
     "start_time": "2021-12-08T22:39:38.319135Z"
    }
   },
   "outputs": [
    {
     "data": {
      "text/html": [
       "<div>\n",
       "<style scoped>\n",
       "    .dataframe tbody tr th:only-of-type {\n",
       "        vertical-align: middle;\n",
       "    }\n",
       "\n",
       "    .dataframe tbody tr th {\n",
       "        vertical-align: top;\n",
       "    }\n",
       "\n",
       "    .dataframe thead th {\n",
       "        text-align: right;\n",
       "    }\n",
       "</style>\n",
       "<table border=\"1\" class=\"dataframe\">\n",
       "  <thead>\n",
       "    <tr style=\"text-align: right;\">\n",
       "      <th></th>\n",
       "      <th>tickers</th>\n",
       "      <th>names</th>\n",
       "      <th>sectors</th>\n",
       "      <th>industries</th>\n",
       "      <th>number_of_followers</th>\n",
       "      <th>number_of_analysts</th>\n",
       "    </tr>\n",
       "  </thead>\n",
       "  <tbody>\n",
       "    <tr>\n",
       "      <th>0</th>\n",
       "      <td>CVNA</td>\n",
       "      <td>Carvana Co.</td>\n",
       "      <td>Consumer Discretionary</td>\n",
       "      <td>Specialty Retail</td>\n",
       "      <td>71</td>\n",
       "      <td>42</td>\n",
       "    </tr>\n",
       "    <tr>\n",
       "      <th>1</th>\n",
       "      <td>FLEX</td>\n",
       "      <td>Flextronics International Ltd.</td>\n",
       "      <td>Information Technology</td>\n",
       "      <td>Electronic Equip., Instruments</td>\n",
       "      <td>84</td>\n",
       "      <td>132</td>\n",
       "    </tr>\n",
       "    <tr>\n",
       "      <th>2</th>\n",
       "      <td>LZB</td>\n",
       "      <td>La-Z-Boy Inc.</td>\n",
       "      <td>Consumer Discretionary</td>\n",
       "      <td>Household Durables</td>\n",
       "      <td>77</td>\n",
       "      <td>212</td>\n",
       "    </tr>\n",
       "    <tr>\n",
       "      <th>3</th>\n",
       "      <td>ARNA</td>\n",
       "      <td>Arena Pharmaceuticals, Inc.</td>\n",
       "      <td>Health Care</td>\n",
       "      <td>Biotechnology</td>\n",
       "      <td>67</td>\n",
       "      <td>81</td>\n",
       "    </tr>\n",
       "    <tr>\n",
       "      <th>4</th>\n",
       "      <td>ATI</td>\n",
       "      <td>Allegheny Technologies Inc.</td>\n",
       "      <td>Materials</td>\n",
       "      <td>Metals &amp; Mining</td>\n",
       "      <td>64</td>\n",
       "      <td>124</td>\n",
       "    </tr>\n",
       "    <tr>\n",
       "      <th>5</th>\n",
       "      <td>DKL</td>\n",
       "      <td>Delek Logistics Partners, LP</td>\n",
       "      <td>Energy</td>\n",
       "      <td>Oil, Gas &amp; Consumable Fuels</td>\n",
       "      <td>12</td>\n",
       "      <td>33</td>\n",
       "    </tr>\n",
       "    <tr>\n",
       "      <th>6</th>\n",
       "      <td>UGI</td>\n",
       "      <td>UGI Corp.</td>\n",
       "      <td>Utilities</td>\n",
       "      <td>Gas Utilities</td>\n",
       "      <td>23</td>\n",
       "      <td>73</td>\n",
       "    </tr>\n",
       "    <tr>\n",
       "      <th>7</th>\n",
       "      <td>TOUR</td>\n",
       "      <td>Tuniu Corp</td>\n",
       "      <td>Consumer Discretionary</td>\n",
       "      <td>Hotels, Restaurants &amp; Leisure</td>\n",
       "      <td>23</td>\n",
       "      <td>85</td>\n",
       "    </tr>\n",
       "    <tr>\n",
       "      <th>8</th>\n",
       "      <td>NCLH</td>\n",
       "      <td>Norwegian Cruise Line Holdings</td>\n",
       "      <td>Consumer Discretionary</td>\n",
       "      <td>Hotels, Restaurants &amp; Leisure</td>\n",
       "      <td>167</td>\n",
       "      <td>208</td>\n",
       "    </tr>\n",
       "    <tr>\n",
       "      <th>9</th>\n",
       "      <td>M</td>\n",
       "      <td>Macy's, Inc.</td>\n",
       "      <td>Consumer Discretionary</td>\n",
       "      <td>Multiline Retail</td>\n",
       "      <td>593</td>\n",
       "      <td>775</td>\n",
       "    </tr>\n",
       "    <tr>\n",
       "      <th>10</th>\n",
       "      <td>TTEK</td>\n",
       "      <td>Tetra Tech Inc.</td>\n",
       "      <td>Industrials</td>\n",
       "      <td>Commercial Services &amp; Supplies</td>\n",
       "      <td>51</td>\n",
       "      <td>74</td>\n",
       "    </tr>\n",
       "    <tr>\n",
       "      <th>11</th>\n",
       "      <td>HTHT</td>\n",
       "      <td>Huazhu Group Limited</td>\n",
       "      <td>Consumer Discretionary</td>\n",
       "      <td>Leisure Equipment &amp; Products</td>\n",
       "      <td>56</td>\n",
       "      <td>97</td>\n",
       "    </tr>\n",
       "    <tr>\n",
       "      <th>12</th>\n",
       "      <td>ZOES</td>\n",
       "      <td>Zoes Kitchen, Inc.</td>\n",
       "      <td>Consumer Discretionary</td>\n",
       "      <td>Hotels, Restaurants &amp; Leisure</td>\n",
       "      <td>66</td>\n",
       "      <td>165</td>\n",
       "    </tr>\n",
       "    <tr>\n",
       "      <th>13</th>\n",
       "      <td>ARLP</td>\n",
       "      <td>Alliance Resource Partners LP</td>\n",
       "      <td>Energy</td>\n",
       "      <td>Oil, Gas &amp; Consumable Fuels</td>\n",
       "      <td>54</td>\n",
       "      <td>135</td>\n",
       "    </tr>\n",
       "    <tr>\n",
       "      <th>14</th>\n",
       "      <td>SPR</td>\n",
       "      <td>Spirit AeroSystems Holdings Inc</td>\n",
       "      <td>Industrials</td>\n",
       "      <td>Aerospace &amp; Defense</td>\n",
       "      <td>68</td>\n",
       "      <td>101</td>\n",
       "    </tr>\n",
       "    <tr>\n",
       "      <th>15</th>\n",
       "      <td>SBAC</td>\n",
       "      <td>SBA Communications Corp.</td>\n",
       "      <td>Telecommunication Services</td>\n",
       "      <td>Wireless Telecommunication Services</td>\n",
       "      <td>137</td>\n",
       "      <td>80</td>\n",
       "    </tr>\n",
       "    <tr>\n",
       "      <th>16</th>\n",
       "      <td>ENPH</td>\n",
       "      <td>Enphase Energy, Inc.</td>\n",
       "      <td>Industrials</td>\n",
       "      <td>Electrical Equipment</td>\n",
       "      <td>182</td>\n",
       "      <td>194</td>\n",
       "    </tr>\n",
       "    <tr>\n",
       "      <th>17</th>\n",
       "      <td>CPRI</td>\n",
       "      <td>Capri Holdings Limited</td>\n",
       "      <td>Consumer Discretionary</td>\n",
       "      <td>Textiles, Apparel &amp; Luxury Goods</td>\n",
       "      <td>901</td>\n",
       "      <td>1,092</td>\n",
       "    </tr>\n",
       "    <tr>\n",
       "      <th>18</th>\n",
       "      <td>TTMI</td>\n",
       "      <td>TTM Technologies Inc.</td>\n",
       "      <td>Information Technology</td>\n",
       "      <td>Electronic Equip., Instruments</td>\n",
       "      <td>41</td>\n",
       "      <td>81</td>\n",
       "    </tr>\n",
       "    <tr>\n",
       "      <th>19</th>\n",
       "      <td>EPAY</td>\n",
       "      <td>Bottomline Technologies Inc.</td>\n",
       "      <td>Information Technology</td>\n",
       "      <td>Software</td>\n",
       "      <td>41</td>\n",
       "      <td>98</td>\n",
       "    </tr>\n",
       "    <tr>\n",
       "      <th>20</th>\n",
       "      <td>FCN</td>\n",
       "      <td>FTI Consulting, Inc.</td>\n",
       "      <td>Industrials</td>\n",
       "      <td>Professional Services</td>\n",
       "      <td>37</td>\n",
       "      <td>55</td>\n",
       "    </tr>\n",
       "    <tr>\n",
       "      <th>21</th>\n",
       "      <td>CLMT</td>\n",
       "      <td>Calumet Specialty Products Partners LP</td>\n",
       "      <td>Energy</td>\n",
       "      <td>Oil, Gas &amp; Consumable Fuels</td>\n",
       "      <td>41</td>\n",
       "      <td>81</td>\n",
       "    </tr>\n",
       "    <tr>\n",
       "      <th>22</th>\n",
       "      <td>ATVI</td>\n",
       "      <td>Activision Blizzard, Inc.</td>\n",
       "      <td>Information Technology</td>\n",
       "      <td>Software</td>\n",
       "      <td>1,221</td>\n",
       "      <td>1,682</td>\n",
       "    </tr>\n",
       "    <tr>\n",
       "      <th>23</th>\n",
       "      <td>ELLI</td>\n",
       "      <td>Ellie Mae, Inc.</td>\n",
       "      <td>Information Technology</td>\n",
       "      <td>Software</td>\n",
       "      <td>75</td>\n",
       "      <td>92</td>\n",
       "    </tr>\n",
       "    <tr>\n",
       "      <th>24</th>\n",
       "      <td>ORLY</td>\n",
       "      <td>O'Reilly Automotive Inc.</td>\n",
       "      <td>Consumer Discretionary</td>\n",
       "      <td>Specialty Retail</td>\n",
       "      <td>254</td>\n",
       "      <td>292</td>\n",
       "    </tr>\n",
       "    <tr>\n",
       "      <th>25</th>\n",
       "      <td>AOSL</td>\n",
       "      <td>Alpha and Omega Semiconductor Limited</td>\n",
       "      <td>Information Technology</td>\n",
       "      <td>Semiconductors</td>\n",
       "      <td>20</td>\n",
       "      <td>38</td>\n",
       "    </tr>\n",
       "    <tr>\n",
       "      <th>26</th>\n",
       "      <td>SRE</td>\n",
       "      <td>Sempra Energy</td>\n",
       "      <td>Utilities</td>\n",
       "      <td>Multi-Utilities</td>\n",
       "      <td>58</td>\n",
       "      <td>49</td>\n",
       "    </tr>\n",
       "    <tr>\n",
       "      <th>27</th>\n",
       "      <td>WBA</td>\n",
       "      <td>Walgreens Boots Alliance</td>\n",
       "      <td>Consumer Staples</td>\n",
       "      <td>Food &amp; Staples Retailing</td>\n",
       "      <td>531</td>\n",
       "      <td>561</td>\n",
       "    </tr>\n",
       "    <tr>\n",
       "      <th>28</th>\n",
       "      <td>UIS</td>\n",
       "      <td>Unisys Corporation</td>\n",
       "      <td>Information Technology</td>\n",
       "      <td>IT Services</td>\n",
       "      <td>48</td>\n",
       "      <td>84</td>\n",
       "    </tr>\n",
       "    <tr>\n",
       "      <th>29</th>\n",
       "      <td>KDNY</td>\n",
       "      <td>Chinook Therapeutics</td>\n",
       "      <td>Health Care</td>\n",
       "      <td>Biotechnology</td>\n",
       "      <td>23</td>\n",
       "      <td>33</td>\n",
       "    </tr>\n",
       "    <tr>\n",
       "      <th>30</th>\n",
       "      <td>SNA</td>\n",
       "      <td>Snap-on Inc.</td>\n",
       "      <td>Industrials</td>\n",
       "      <td>Machinery</td>\n",
       "      <td>119</td>\n",
       "      <td>168</td>\n",
       "    </tr>\n",
       "    <tr>\n",
       "      <th>31</th>\n",
       "      <td>USCR</td>\n",
       "      <td>U S Concrete, Inc.</td>\n",
       "      <td>Materials</td>\n",
       "      <td>Construction Materials</td>\n",
       "      <td>32</td>\n",
       "      <td>59</td>\n",
       "    </tr>\n",
       "    <tr>\n",
       "      <th>32</th>\n",
       "      <td>PFSW</td>\n",
       "      <td>PFSweb, Inc.</td>\n",
       "      <td>Information Technology</td>\n",
       "      <td>IT Services</td>\n",
       "      <td>12</td>\n",
       "      <td>35</td>\n",
       "    </tr>\n",
       "    <tr>\n",
       "      <th>33</th>\n",
       "      <td>NSTG</td>\n",
       "      <td>NanoString Technologies, Inc.</td>\n",
       "      <td>Health Care</td>\n",
       "      <td>Life Sciences Tools &amp; Services</td>\n",
       "      <td>25</td>\n",
       "      <td>28</td>\n",
       "    </tr>\n",
       "    <tr>\n",
       "      <th>34</th>\n",
       "      <td>TRGP</td>\n",
       "      <td>Targa Resources Corp.</td>\n",
       "      <td>Energy</td>\n",
       "      <td>Oil, Gas &amp; Consumable Fuels</td>\n",
       "      <td>48</td>\n",
       "      <td>79</td>\n",
       "    </tr>\n",
       "    <tr>\n",
       "      <th>35</th>\n",
       "      <td>BYND</td>\n",
       "      <td>Beyond Meat, Inc.</td>\n",
       "      <td>Consumer Staples</td>\n",
       "      <td>Food Products</td>\n",
       "      <td>391</td>\n",
       "      <td>453</td>\n",
       "    </tr>\n",
       "    <tr>\n",
       "      <th>36</th>\n",
       "      <td>TTC</td>\n",
       "      <td>Toro Co.</td>\n",
       "      <td>Industrials</td>\n",
       "      <td>Machinery</td>\n",
       "      <td>43</td>\n",
       "      <td>79</td>\n",
       "    </tr>\n",
       "    <tr>\n",
       "      <th>37</th>\n",
       "      <td>GGG</td>\n",
       "      <td>Graco Inc.</td>\n",
       "      <td>Industrials</td>\n",
       "      <td>Machinery</td>\n",
       "      <td>47</td>\n",
       "      <td>113</td>\n",
       "    </tr>\n",
       "    <tr>\n",
       "      <th>38</th>\n",
       "      <td>XPER</td>\n",
       "      <td>Xperi Corporation</td>\n",
       "      <td>Information Technology</td>\n",
       "      <td>Semiconductors</td>\n",
       "      <td>39</td>\n",
       "      <td>57</td>\n",
       "    </tr>\n",
       "    <tr>\n",
       "      <th>39</th>\n",
       "      <td>MTSC</td>\n",
       "      <td>MTS Systems Corp.</td>\n",
       "      <td>Information Technology</td>\n",
       "      <td>Electronic Equip., Instruments</td>\n",
       "      <td>24</td>\n",
       "      <td>50</td>\n",
       "    </tr>\n",
       "    <tr>\n",
       "      <th>40</th>\n",
       "      <td>MCO</td>\n",
       "      <td>Moody's Corp.</td>\n",
       "      <td>Financials</td>\n",
       "      <td>Diversified Financial Services</td>\n",
       "      <td>151</td>\n",
       "      <td>193</td>\n",
       "    </tr>\n",
       "    <tr>\n",
       "      <th>41</th>\n",
       "      <td>IDCC</td>\n",
       "      <td>InterDigital, Inc.</td>\n",
       "      <td>Information Technology</td>\n",
       "      <td>Communications Equipment</td>\n",
       "      <td>39</td>\n",
       "      <td>73</td>\n",
       "    </tr>\n",
       "    <tr>\n",
       "      <th>42</th>\n",
       "      <td>XPO</td>\n",
       "      <td>XPO Logistics, Inc.</td>\n",
       "      <td>Industrials</td>\n",
       "      <td>Air Freight &amp; Logistics</td>\n",
       "      <td>132</td>\n",
       "      <td>157</td>\n",
       "    </tr>\n",
       "    <tr>\n",
       "      <th>43</th>\n",
       "      <td>MATX</td>\n",
       "      <td>Matson, Inc.</td>\n",
       "      <td>Industrials</td>\n",
       "      <td>Marine</td>\n",
       "      <td>21</td>\n",
       "      <td>45</td>\n",
       "    </tr>\n",
       "    <tr>\n",
       "      <th>44</th>\n",
       "      <td>MDXG</td>\n",
       "      <td>MiMedx Group, Inc.</td>\n",
       "      <td>Health Care</td>\n",
       "      <td>Biotechnology</td>\n",
       "      <td>59</td>\n",
       "      <td>73</td>\n",
       "    </tr>\n",
       "    <tr>\n",
       "      <th>45</th>\n",
       "      <td>WDFC</td>\n",
       "      <td>WD-40 Company</td>\n",
       "      <td>Consumer Staples</td>\n",
       "      <td>Household &amp; Personal Products</td>\n",
       "      <td>82</td>\n",
       "      <td>266</td>\n",
       "    </tr>\n",
       "    <tr>\n",
       "      <th>46</th>\n",
       "      <td>ZBH</td>\n",
       "      <td>Zimmer Biomet Holdings, Inc.</td>\n",
       "      <td>Health Care</td>\n",
       "      <td>Health Care Equipment &amp; Supplies</td>\n",
       "      <td>101</td>\n",
       "      <td>131</td>\n",
       "    </tr>\n",
       "    <tr>\n",
       "      <th>47</th>\n",
       "      <td>MGRC</td>\n",
       "      <td>McGrath Rentcorp</td>\n",
       "      <td>Industrials</td>\n",
       "      <td>Commercial Services &amp; Supplies</td>\n",
       "      <td>19</td>\n",
       "      <td>47</td>\n",
       "    </tr>\n",
       "    <tr>\n",
       "      <th>48</th>\n",
       "      <td>MSGS</td>\n",
       "      <td>Madison Square Garden Sports Corp.</td>\n",
       "      <td>Consumer Discretionary</td>\n",
       "      <td>Media</td>\n",
       "      <td>88</td>\n",
       "      <td>140</td>\n",
       "    </tr>\n",
       "    <tr>\n",
       "      <th>49</th>\n",
       "      <td>NKTR</td>\n",
       "      <td>Nektar Therapeutics</td>\n",
       "      <td>Health Care</td>\n",
       "      <td>Pharmaceuticals</td>\n",
       "      <td>86</td>\n",
       "      <td>170</td>\n",
       "    </tr>\n",
       "  </tbody>\n",
       "</table>\n",
       "</div>"
      ],
      "text/plain": [
       "   tickers                                   names  \\\n",
       "0     CVNA                             Carvana Co.   \n",
       "1     FLEX          Flextronics International Ltd.   \n",
       "2      LZB                           La-Z-Boy Inc.   \n",
       "3     ARNA             Arena Pharmaceuticals, Inc.   \n",
       "4      ATI             Allegheny Technologies Inc.   \n",
       "5      DKL            Delek Logistics Partners, LP   \n",
       "6      UGI                               UGI Corp.   \n",
       "7     TOUR                              Tuniu Corp   \n",
       "8     NCLH          Norwegian Cruise Line Holdings   \n",
       "9        M                            Macy's, Inc.   \n",
       "10    TTEK                         Tetra Tech Inc.   \n",
       "11    HTHT                    Huazhu Group Limited   \n",
       "12    ZOES                      Zoes Kitchen, Inc.   \n",
       "13    ARLP           Alliance Resource Partners LP   \n",
       "14     SPR         Spirit AeroSystems Holdings Inc   \n",
       "15    SBAC                SBA Communications Corp.   \n",
       "16    ENPH                    Enphase Energy, Inc.   \n",
       "17    CPRI                  Capri Holdings Limited   \n",
       "18    TTMI                   TTM Technologies Inc.   \n",
       "19    EPAY            Bottomline Technologies Inc.   \n",
       "20     FCN                    FTI Consulting, Inc.   \n",
       "21    CLMT  Calumet Specialty Products Partners LP   \n",
       "22    ATVI               Activision Blizzard, Inc.   \n",
       "23    ELLI                         Ellie Mae, Inc.   \n",
       "24    ORLY                O'Reilly Automotive Inc.   \n",
       "25    AOSL   Alpha and Omega Semiconductor Limited   \n",
       "26     SRE                           Sempra Energy   \n",
       "27     WBA                Walgreens Boots Alliance   \n",
       "28     UIS                      Unisys Corporation   \n",
       "29    KDNY                    Chinook Therapeutics   \n",
       "30     SNA                            Snap-on Inc.   \n",
       "31    USCR                      U S Concrete, Inc.   \n",
       "32    PFSW                            PFSweb, Inc.   \n",
       "33    NSTG           NanoString Technologies, Inc.   \n",
       "34    TRGP                   Targa Resources Corp.   \n",
       "35    BYND                       Beyond Meat, Inc.   \n",
       "36     TTC                                Toro Co.   \n",
       "37     GGG                              Graco Inc.   \n",
       "38    XPER                       Xperi Corporation   \n",
       "39    MTSC                       MTS Systems Corp.   \n",
       "40     MCO                           Moody's Corp.   \n",
       "41    IDCC                      InterDigital, Inc.   \n",
       "42     XPO                     XPO Logistics, Inc.   \n",
       "43    MATX                            Matson, Inc.   \n",
       "44    MDXG                      MiMedx Group, Inc.   \n",
       "45    WDFC                           WD-40 Company   \n",
       "46     ZBH            Zimmer Biomet Holdings, Inc.   \n",
       "47    MGRC                        McGrath Rentcorp   \n",
       "48    MSGS      Madison Square Garden Sports Corp.   \n",
       "49    NKTR                     Nektar Therapeutics   \n",
       "\n",
       "                       sectors                           industries  \\\n",
       "0       Consumer Discretionary                     Specialty Retail   \n",
       "1       Information Technology       Electronic Equip., Instruments   \n",
       "2       Consumer Discretionary                   Household Durables   \n",
       "3                  Health Care                        Biotechnology   \n",
       "4                    Materials                      Metals & Mining   \n",
       "5                       Energy          Oil, Gas & Consumable Fuels   \n",
       "6                    Utilities                        Gas Utilities   \n",
       "7       Consumer Discretionary        Hotels, Restaurants & Leisure   \n",
       "8       Consumer Discretionary        Hotels, Restaurants & Leisure   \n",
       "9       Consumer Discretionary                     Multiline Retail   \n",
       "10                 Industrials       Commercial Services & Supplies   \n",
       "11      Consumer Discretionary         Leisure Equipment & Products   \n",
       "12      Consumer Discretionary        Hotels, Restaurants & Leisure   \n",
       "13                      Energy          Oil, Gas & Consumable Fuels   \n",
       "14                 Industrials                  Aerospace & Defense   \n",
       "15  Telecommunication Services  Wireless Telecommunication Services   \n",
       "16                 Industrials                 Electrical Equipment   \n",
       "17      Consumer Discretionary     Textiles, Apparel & Luxury Goods   \n",
       "18      Information Technology       Electronic Equip., Instruments   \n",
       "19      Information Technology                             Software   \n",
       "20                 Industrials                Professional Services   \n",
       "21                      Energy          Oil, Gas & Consumable Fuels   \n",
       "22      Information Technology                             Software   \n",
       "23      Information Technology                             Software   \n",
       "24      Consumer Discretionary                     Specialty Retail   \n",
       "25      Information Technology                       Semiconductors   \n",
       "26                   Utilities                      Multi-Utilities   \n",
       "27            Consumer Staples             Food & Staples Retailing   \n",
       "28      Information Technology                          IT Services   \n",
       "29                 Health Care                        Biotechnology   \n",
       "30                 Industrials                            Machinery   \n",
       "31                   Materials               Construction Materials   \n",
       "32      Information Technology                          IT Services   \n",
       "33                 Health Care       Life Sciences Tools & Services   \n",
       "34                      Energy          Oil, Gas & Consumable Fuels   \n",
       "35            Consumer Staples                        Food Products   \n",
       "36                 Industrials                            Machinery   \n",
       "37                 Industrials                            Machinery   \n",
       "38      Information Technology                       Semiconductors   \n",
       "39      Information Technology       Electronic Equip., Instruments   \n",
       "40                  Financials       Diversified Financial Services   \n",
       "41      Information Technology             Communications Equipment   \n",
       "42                 Industrials              Air Freight & Logistics   \n",
       "43                 Industrials                               Marine   \n",
       "44                 Health Care                        Biotechnology   \n",
       "45            Consumer Staples        Household & Personal Products   \n",
       "46                 Health Care     Health Care Equipment & Supplies   \n",
       "47                 Industrials       Commercial Services & Supplies   \n",
       "48      Consumer Discretionary                                Media   \n",
       "49                 Health Care                      Pharmaceuticals   \n",
       "\n",
       "   number_of_followers number_of_analysts  \n",
       "0                   71                 42  \n",
       "1                   84                132  \n",
       "2                   77                212  \n",
       "3                   67                 81  \n",
       "4                   64                124  \n",
       "5                   12                 33  \n",
       "6                   23                 73  \n",
       "7                   23                 85  \n",
       "8                  167                208  \n",
       "9                  593                775  \n",
       "10                  51                 74  \n",
       "11                  56                 97  \n",
       "12                  66                165  \n",
       "13                  54                135  \n",
       "14                  68                101  \n",
       "15                 137                 80  \n",
       "16                 182                194  \n",
       "17                 901              1,092  \n",
       "18                  41                 81  \n",
       "19                  41                 98  \n",
       "20                  37                 55  \n",
       "21                  41                 81  \n",
       "22               1,221              1,682  \n",
       "23                  75                 92  \n",
       "24                 254                292  \n",
       "25                  20                 38  \n",
       "26                  58                 49  \n",
       "27                 531                561  \n",
       "28                  48                 84  \n",
       "29                  23                 33  \n",
       "30                 119                168  \n",
       "31                  32                 59  \n",
       "32                  12                 35  \n",
       "33                  25                 28  \n",
       "34                  48                 79  \n",
       "35                 391                453  \n",
       "36                  43                 79  \n",
       "37                  47                113  \n",
       "38                  39                 57  \n",
       "39                  24                 50  \n",
       "40                 151                193  \n",
       "41                  39                 73  \n",
       "42                 132                157  \n",
       "43                  21                 45  \n",
       "44                  59                 73  \n",
       "45                  82                266  \n",
       "46                 101                131  \n",
       "47                  19                 47  \n",
       "48                  88                140  \n",
       "49                  86                170  "
      ]
     },
     "execution_count": 1083,
     "metadata": {},
     "output_type": "execute_result"
    }
   ],
   "source": [
    "company"
   ]
  },
  {
   "cell_type": "code",
   "execution_count": 1084,
   "id": "de40a62a",
   "metadata": {
    "ExecuteTime": {
     "end_time": "2021-12-08T22:39:49.145881Z",
     "start_time": "2021-12-08T22:39:49.135907Z"
    }
   },
   "outputs": [],
   "source": [
    "company.to_csv('company_info.csv')"
   ]
  },
  {
   "cell_type": "code",
   "execution_count": null,
   "id": "6be6e570",
   "metadata": {
    "ExecuteTime": {
     "end_time": "2021-12-05T02:56:46.193823Z",
     "start_time": "2021-12-05T02:56:46.181856Z"
    }
   },
   "outputs": [],
   "source": []
  },
  {
   "cell_type": "markdown",
   "id": "c87e3183",
   "metadata": {},
   "source": [
    "### 2b Analysts Predictions Quarterly Extraction"
   ]
  },
  {
   "cell_type": "code",
   "execution_count": 1117,
   "id": "467be8ee",
   "metadata": {
    "ExecuteTime": {
     "end_time": "2021-12-09T00:05:03.424061Z",
     "start_time": "2021-12-08T23:35:51.523999Z"
    }
   },
   "outputs": [],
   "source": [
    "tick = ticks\n",
    "df2 = pd.DataFrame(columns = ['ticker','year','Analysts','values','Analyst_id'])\n",
    "x=['fq3-2021','fq2-2021','fq1-2021','fq4-2020']\n",
    "for tic in tick:\n",
    "    for i in x:\n",
    "        df=pd.DataFrame()\n",
    "        options = webdriver.ChromeOptions()\n",
    "        options.headless = False\n",
    "        browser = webdriver.Chrome(executable_path = '/Users/arunk/Downloads/chromedriver',chrome_options = options)\n",
    "        link = 'https://www.estimize.com/'+str.lower(tic)+'/'+i+'?metric_name=eps&chart=historical'\n",
    "        browser.get(link)\n",
    "        time.sleep(3)\n",
    "        try:\n",
    "            browser.find_element_by_xpath('//*[@id=\"estimates\"]/div').click()\n",
    "        except Exception:\n",
    "            pass\n",
    "        df5 = pd.DataFrame()\n",
    "        df6 = pd.DataFrame()\n",
    "        t1= browser.find_elements_by_xpath('//*[@id=\"estimates\"]/table/tbody[1]/tr/td/strong')\n",
    "        t2 =browser.find_elements_by_xpath('//*[@class=\"estimates-tbl-consensus-column\"]/div/strong')\n",
    "        df5['Analysts'] =  [(i.text) for i in t1]\n",
    "        df6['Analysts'] =  [(i.text) for i in t2]\n",
    "        df5 = df5.append(df6,ignore_index=True)\n",
    "        values = browser.find_elements_by_class_name(\"estimates-tbl-consensus-eps\")\n",
    "        df5['values'] = [(i.text) for i in values]\n",
    "        df5['ticker'] = [tic for i in values]\n",
    "        df5['year'] = [i for j in values]\n",
    "        df5['Analyst_id'] = ['default' for j in values]\n",
    "        \n",
    "        Analysts = browser.find_elements_by_xpath('//strong[@class=\"user-tooltip-item\"]')\n",
    "        df['Analysts'] = [s.text for s in Analysts]       \n",
    "        values = browser.find_elements_by_xpath('//td[@class=\"estimates-tbl-eps\"]')\n",
    "        df['values'] = [s.text for s in values]        \n",
    "        Analysts_id = browser.find_elements_by_xpath('//p[@class=\"user-tooltip-item\"]')\n",
    "        df['Analyst_id'] = [s.text for s in Analysts_id]\n",
    "        df['year'] = [i for s in values]\n",
    "        df['ticker'] = [tic for s in range(len(values))]\n",
    "        \n",
    "        df2 = df2.append(df,ignore_index=True)\n",
    "        df2 = df2.append(df5,ignore_index=True)\n",
    "        browser.quit()"
   ]
  },
  {
   "cell_type": "code",
   "execution_count": 1119,
   "id": "c8c0593a",
   "metadata": {
    "ExecuteTime": {
     "end_time": "2021-12-09T00:05:41.670370Z",
     "start_time": "2021-12-09T00:05:41.663387Z"
    }
   },
   "outputs": [
    {
     "data": {
      "text/plain": [
       "565"
      ]
     },
     "execution_count": 1119,
     "metadata": {},
     "output_type": "execute_result"
    }
   ],
   "source": [
    "len(df2.Analyst_id.unique())"
   ]
  },
  {
   "cell_type": "code",
   "execution_count": 1121,
   "id": "7e854d8a",
   "metadata": {
    "ExecuteTime": {
     "end_time": "2021-12-09T00:06:55.963961Z",
     "start_time": "2021-12-09T00:06:55.946575Z"
    }
   },
   "outputs": [],
   "source": [
    "df2.to_csv('predictions_quarterly.csv')"
   ]
  },
  {
   "cell_type": "markdown",
   "id": "f28cf94d",
   "metadata": {},
   "source": [
    "### 2c Analyst Information Extraction"
   ]
  },
  {
   "cell_type": "code",
   "execution_count": 1146,
   "id": "f5677dd5",
   "metadata": {
    "ExecuteTime": {
     "end_time": "2021-12-09T01:03:02.420352Z",
     "start_time": "2021-12-09T01:03:02.410388Z"
    }
   },
   "outputs": [],
   "source": [
    "analyst_id1=list(df2.Analyst_id.unique())"
   ]
  },
  {
   "cell_type": "code",
   "execution_count": 1156,
   "id": "f0e4be61",
   "metadata": {
    "ExecuteTime": {
     "end_time": "2021-12-09T02:03:59.787593Z",
     "start_time": "2021-12-09T02:03:52.955147Z"
    }
   },
   "outputs": [],
   "source": [
    "df_analysts=pd.DataFrame()\n",
    "name=[]\n",
    "analyst_id=[]\n",
    "roles=[]\n",
    "join_date=[]\n",
    "analyst_confidence=[]\n",
    "error_rate=[]\n",
    "accuracy_percentile=[]\n",
    "points=[]\n",
    "points_estimate=[]\n",
    "stocks =[]\n",
    "pending_estimates = []\n",
    "count=0\n",
    "for tic in analyst_id1:   \n",
    "    df=pd.DataFrame()\n",
    "    options = webdriver.ChromeOptions()\n",
    "    options.headless = False\n",
    "    browser = webdriver.Chrome(executable_path = '/Users/arunk/Downloads/chromedriver',chrome_options = options)\n",
    "    link = 'https://www.estimize.com/users/'+str.lower(tic)\n",
    "    browser.get(link)\n",
    "    try:\n",
    "        names = browser.find_element_by_xpath('//h1[@class=\"profile-display-name\"]').text\n",
    "        name.append(names)\n",
    "        analyst_log_id = browser.find_element_by_xpath('//p[@class=\"profile-username\"]').text\n",
    "        analyst_id.append(analyst_log_id)\n",
    "        roles_an = browser.find_elements_by_xpath('//ul[@class=\"profile-bio-categorizations\"]/li')\n",
    "        join_date1 = browser.find_element_by_xpath('//div[@class = \"profile-activity-stats\"]').text.replace('Member since ', '')\n",
    "        join_date.append(join_date1)\n",
    "        analyst_confidence1 = browser.find_element_by_xpath('//*[@id=\"confidence-wrap\"]/div/div[2]').text\n",
    "        analyst_confidence.append(analyst_confidence1)\n",
    "        error_rate1 = browser.find_element_by_xpath('//div[@class=\"profile-stat\"]').text.replace('%', '')\n",
    "        error_rate.append(error_rate1)\n",
    "        accuracy_percentile1 = browser.find_element_by_xpath('//*[@id=\"profile-tab-wrap\"]/div[1]/div[2]/div[1]').text.replace('%', '')\n",
    "        accuracy_percentile.append(accuracy_percentile1)\n",
    "        points1 = browser.find_element_by_xpath('//*[@id=\"profile-tab-wrap\"]/div[2]/div[1]/div[1]').text\n",
    "        points.append(points1)\n",
    "        points_estimate1 = browser.find_element_by_xpath('//*[@id=\"profile-tab-wrap\"]/div[2]/div[2]/div[1]').text\n",
    "        points_estimate.append(points_estimate1)\n",
    "        stocks1 = browser.find_element_by_xpath('//*[@id=\"profile-tab-wrap\"]/div[3]/div[1]/div[1]').text\n",
    "        stocks.append(stocks1)\n",
    "        pending_estimates1 = browser.find_element_by_xpath('//*[@id=\"profile-tab-wrap\"]/div[3]/div[2]/div[1]').text\n",
    "        pending_estimates.append(pending_estimates1)\n",
    "\n",
    "        if len(roles_an)==0:\n",
    "            roles.append('None')\n",
    "        elif len(roles_an)==1:\n",
    "            roles1 = browser.find_element_by_xpath('//ul[@class=\"profile-bio-categorizations\"]/li[1]')\n",
    "            rolen = roles1.text\n",
    "            roles.append(rolen)\n",
    "\n",
    "        elif len(roles_an)==2:\n",
    "            roles1 = browser.find_element_by_xpath('//ul[@class=\"profile-bio-categorizations\"]/li[1]')\n",
    "            roles2 = browser.find_element_by_xpath('//ul[@class=\"profile-bio-categorizations\"]/li[2]')\n",
    "            rolen = roles1.text+' , '+roles2.text\n",
    "            roles.append(rolen)\n",
    "\n",
    "        elif len(roles_an) ==3:\n",
    "            roles1 = browser.find_element_by_xpath('//ul[@class=\"profile-bio-categorizations\"]/li[1]')\n",
    "            roles2 = browser.find_element_by_xpath('//ul[@class=\"profile-bio-categorizations\"]/li[2]')\n",
    "            roles3 = browser.find_element_by_xpath('//ul[@class=\"profile-bio-categorizations\"]/li[3]')\n",
    "            rolen = roles1.text+', '+roles2.text+' and '+roles3.text\n",
    "            roles.append(rolen)\n",
    "            \n",
    "        else:\n",
    "            roles.append('None')\n",
    "\n",
    "        Analyst_Info = pd.DataFrame(list(zip(name,\n",
    "                                analyst_id,\n",
    "                                roles,\n",
    "                                join_date,\n",
    "                                analyst_confidence,\n",
    "                                error_rate,\n",
    "                                accuracy_percentile,\n",
    "                                points,\n",
    "                                points_estimate,\n",
    "                                stocks ,\n",
    "                                pending_estimates)),\n",
    "                               columns =['name','analyst_id','roles','join_date','analyst_confidence','error_rate',\n",
    "                                'accuracy_percentile','points','points_estimate','stocks','pending_estimates'])\n",
    "        df_analysts = df_analysts.append(Analyst_Info,ignore_index=True)\n",
    "    except Exception:\n",
    "        pass\n",
    "    browser.quit()"
   ]
  },
  {
   "cell_type": "code",
   "execution_count": 1157,
   "id": "7e76bd47",
   "metadata": {
    "ExecuteTime": {
     "end_time": "2021-12-09T02:04:27.248281Z",
     "start_time": "2021-12-09T02:04:27.237301Z"
    }
   },
   "outputs": [
    {
     "data": {
      "text/html": [
       "<div>\n",
       "<style scoped>\n",
       "    .dataframe tbody tr th:only-of-type {\n",
       "        vertical-align: middle;\n",
       "    }\n",
       "\n",
       "    .dataframe tbody tr th {\n",
       "        vertical-align: top;\n",
       "    }\n",
       "\n",
       "    .dataframe thead th {\n",
       "        text-align: right;\n",
       "    }\n",
       "</style>\n",
       "<table border=\"1\" class=\"dataframe\">\n",
       "  <thead>\n",
       "    <tr style=\"text-align: right;\">\n",
       "      <th></th>\n",
       "      <th>name</th>\n",
       "      <th>analyst_id</th>\n",
       "      <th>roles</th>\n",
       "      <th>join_date</th>\n",
       "      <th>analyst_confidence</th>\n",
       "      <th>error_rate</th>\n",
       "      <th>accuracy_percentile</th>\n",
       "      <th>points</th>\n",
       "      <th>points_estimate</th>\n",
       "      <th>stocks</th>\n",
       "      <th>pending_estimates</th>\n",
       "    </tr>\n",
       "  </thead>\n",
       "  <tbody>\n",
       "    <tr>\n",
       "      <th>0</th>\n",
       "      <td>Dominantstock</td>\n",
       "      <td>Dominantstock</td>\n",
       "      <td>Financial Professional, Buy Side and Asset Man...</td>\n",
       "      <td>Jun 2017 - Last seen 3 months ago</td>\n",
       "      <td>3.2</td>\n",
       "      <td>25.8</td>\n",
       "      <td>21</td>\n",
       "      <td>-1,041</td>\n",
       "      <td>-7.8</td>\n",
       "      <td>136</td>\n",
       "      <td>215</td>\n",
       "    </tr>\n",
       "  </tbody>\n",
       "</table>\n",
       "</div>"
      ],
      "text/plain": [
       "            name     analyst_id  \\\n",
       "0  Dominantstock  Dominantstock   \n",
       "\n",
       "                                               roles  \\\n",
       "0  Financial Professional, Buy Side and Asset Man...   \n",
       "\n",
       "                           join_date analyst_confidence error_rate  \\\n",
       "0  Jun 2017 - Last seen 3 months ago                3.2       25.8   \n",
       "\n",
       "  accuracy_percentile  points points_estimate stocks pending_estimates  \n",
       "0                  21  -1,041            -7.8    136               215  "
      ]
     },
     "execution_count": 1157,
     "metadata": {},
     "output_type": "execute_result"
    }
   ],
   "source": [
    "df_analysts"
   ]
  },
  {
   "cell_type": "code",
   "execution_count": 1151,
   "id": "1eae2c22",
   "metadata": {
    "ExecuteTime": {
     "end_time": "2021-12-09T02:01:41.180141Z",
     "start_time": "2021-12-09T02:01:41.141051Z"
    }
   },
   "outputs": [],
   "source": [
    "new = df_analysts.drop_duplicates().reset_index()\n"
   ]
  },
  {
   "cell_type": "code",
   "execution_count": 1153,
   "id": "006d611a",
   "metadata": {
    "ExecuteTime": {
     "end_time": "2021-12-09T02:02:31.607926Z",
     "start_time": "2021-12-09T02:02:31.593963Z"
    }
   },
   "outputs": [],
   "source": [
    "new = new.drop(columns='index')\n"
   ]
  },
  {
   "cell_type": "code",
   "execution_count": 1158,
   "id": "6ec30a52",
   "metadata": {
    "ExecuteTime": {
     "end_time": "2021-12-09T02:04:49.867592Z",
     "start_time": "2021-12-09T02:04:49.853912Z"
    }
   },
   "outputs": [],
   "source": [
    "new.to_csv('analysts_info.csv')"
   ]
  },
  {
   "cell_type": "markdown",
   "id": "a49f9505",
   "metadata": {
    "ExecuteTime": {
     "end_time": "2021-12-08T20:25:33.426160Z",
     "start_time": "2021-12-08T20:25:33.415708Z"
    }
   },
   "source": [
    "### 2c Scored and Pending Stocks of an Analyst"
   ]
  },
  {
   "cell_type": "code",
   "execution_count": 1159,
   "id": "fc27220e",
   "metadata": {
    "ExecuteTime": {
     "end_time": "2021-12-09T02:45:32.285534Z",
     "start_time": "2021-12-09T02:05:35.630739Z"
    }
   },
   "outputs": [],
   "source": [
    "analyst_ids= list(new.analyst_id.unique())\n",
    "df_stocks_scored = pd.DataFrame(columns=['Ticker','Quarters','Reported','Rank','Eps_Points','Revenue_Points','Total_Points','Analyst_id'])\n",
    "df_stocks_pend = pd.DataFrame(columns=['Ticker','Quarter','Reports','Published','EPS','Revenue','Analyst_id'])\n",
    "for tic in analyst_ids:\n",
    "    df_stocks_scored1 = pd.DataFrame(columns=['Ticker','Quarters','Reported','Rank','Eps_Points','Revenue_Points','Total_Points'])\n",
    "    df_stocks_pend1 = pd.DataFrame(columns=['Ticker','Quarter','Reports','Published','EPS','Revenue'])\n",
    "    options = webdriver.ChromeOptions()\n",
    "    options.headless = False\n",
    "    browser = webdriver.Chrome(executable_path = '/Users/arunk/Downloads/chromedriver',chrome_options = options)\n",
    "    link = 'https://www.estimize.com/users/'+str.lower(tic)\n",
    "    browser.get(link)\n",
    "    import time \n",
    "    time.sleep(3)  #wait for 3 seconds and then execute the commands\n",
    "    try:\n",
    "        browser.find_element_by_xpath(\"//div[@id='profile-pending-estimates']/div[@class='pagination-footer']\").click()\n",
    "    except Exception:\n",
    "        pass\n",
    "    try:\n",
    "        browser.find_element_by_xpath(\"//div[@id='profile-scored-estimates']/div[@class='pagination-footer']\").click()\n",
    "    except Exception:\n",
    "        pass\n",
    "    df_stocks_scored1['Ticker']= [i.text for i in  browser.find_elements_by_xpath('//*[@id=\"profile-scored-estimates\"]/div[1]/div[2]/a[@class=\"linked-row\"]/div[@class=\"td\"]/strong')]\n",
    "    df_stocks_scored1['Quarters'] = [i.text for i in browser.find_elements_by_xpath('//*[@id=\"profile-scored-estimates\"]/div[1]/div[2]/a[@class=\"linked-row\"]/div[2]')]\n",
    "    df_stocks_scored1['Reported'] = [i.text for i in browser.find_elements_by_xpath('//*[@id=\"profile-scored-estimates\"]/div[1]/div[2]/a[@class=\"linked-row\"]/div[3]')]\n",
    "    df_stocks_scored1['Rank']= [i.text for i in browser.find_elements_by_xpath(\"//*[@id='profile-scored-estimates']/div[1]/div[2]/a[@class='linked-row']/div[4]\")]\n",
    "    df_stocks_scored1['Eps_Points']=[i.text for i in browser.find_elements_by_xpath(\"//*[@id='profile-scored-estimates']/div[1]/div[2]/a[@class='linked-row']/div[5]\")]\n",
    "    df_stocks_scored1['Revenue_Points']=[i.text for i in browser.find_elements_by_xpath(\"//*[@id='profile-scored-estimates']/div[1]/div[2]/a[@class='linked-row']/div[6]\")]\n",
    "    df_stocks_scored1['Total_Points']=[i.text for i in browser.find_elements_by_xpath(\"//*[@id='profile-scored-estimates']/div[1]/div[2]/a[@class='linked-row']/div[7]\")]\n",
    "    df_stocks_scored1['Analyst_id']=[tic]*len(browser.find_elements_by_xpath('//*[@id=\"profile-scored-estimates\"]/div[1]/div[2]/a[@class=\"linked-row\"]/div[@class=\"td\"]/strong'))\n",
    "    \n",
    "    df_stocks_pend1['Ticker'] = [i.text for i in browser.find_elements_by_xpath('//*[@id=\"profile-pending-estimates\"]/div[1]/div[2]/a[@class=\"linked-row\"]/div[1]')]\n",
    "    df_stocks_pend1['Quarter'] = [i.text for i in browser.find_elements_by_xpath('//*[@id=\"profile-pending-estimates\"]/div[1]/div[2]/a[@class=\"linked-row\"]/div[2]')]\n",
    "    df_stocks_pend1['Reports'] = [i.text for i in browser.find_elements_by_xpath('//*[@id=\"profile-pending-estimates\"]/div[1]/div[2]/a[@class=\"linked-row\"]/div[3]')]\n",
    "    df_stocks_pend1['Published'] = [i.text for i in browser.find_elements_by_xpath('//*[@id=\"profile-pending-estimates\"]/div[1]/div[2]/a[@class=\"linked-row\"]/div[4]')]\n",
    "    df_stocks_pend1['EPS'] = [i.text for i in browser.find_elements_by_xpath('//*[@id=\"profile-pending-estimates\"]/div[1]/div[2]/a[@class=\"linked-row\"]/div[5]')]\n",
    "    df_stocks_pend1['Revenue'] = [i.text for i in browser.find_elements_by_xpath('//*[@id=\"profile-pending-estimates\"]/div[1]/div[2]/a[@class=\"linked-row\"]/div[6]')]\n",
    "    df_stocks_pend1['Analyst_id']=[tic]*len(browser.find_elements_by_xpath(\"//*[@id='profile-pending-estimates']/div[1]/div[2]/a[@class='linked-row']/div[1]\"))\n",
    "    \n",
    "    df_stocks_scored = df_stocks_scored.append(df_stocks_scored1,ignore_index=True)\n",
    "    df_stocks_pend=df_stocks_pend.append(df_stocks_pend1,ignore_index=True)\n",
    "    browser.quit()"
   ]
  },
  {
   "cell_type": "code",
   "execution_count": 1162,
   "id": "ee5abde5",
   "metadata": {
    "ExecuteTime": {
     "end_time": "2021-12-09T02:58:07.157442Z",
     "start_time": "2021-12-09T02:58:07.133486Z"
    }
   },
   "outputs": [],
   "source": [
    "df_stocks_scored.to_csv('stocks_scored.csv')"
   ]
  },
  {
   "cell_type": "code",
   "execution_count": 1163,
   "id": "075cd816",
   "metadata": {
    "ExecuteTime": {
     "end_time": "2021-12-09T02:58:10.107138Z",
     "start_time": "2021-12-09T02:58:10.084199Z"
    }
   },
   "outputs": [],
   "source": [
    "df_stocks_pend.to_csv('stocks_pending.csv')"
   ]
  },
  {
   "cell_type": "markdown",
   "id": "54ea2d6f",
   "metadata": {},
   "source": [
    "### 2C Stocks Covered by Analysts"
   ]
  },
  {
   "cell_type": "code",
   "execution_count": 1192,
   "id": "753cbdf9",
   "metadata": {
    "ExecuteTime": {
     "end_time": "2021-12-09T05:50:20.840670Z",
     "start_time": "2021-12-09T05:50:20.822050Z"
    }
   },
   "outputs": [
    {
     "data": {
      "text/plain": [
       "233"
      ]
     },
     "execution_count": 1192,
     "metadata": {},
     "output_type": "execute_result"
    }
   ],
   "source": [
    "analyst_ids=list(new.analyst_id.unique())\n",
    "len(analyst_ids)"
   ]
  },
  {
   "cell_type": "code",
   "execution_count": 1196,
   "id": "d45bdb52",
   "metadata": {
    "ExecuteTime": {
     "end_time": "2021-12-09T06:44:44.229976Z",
     "start_time": "2021-12-09T05:58:22.615077Z"
    }
   },
   "outputs": [
    {
     "name": "stdout",
     "output_type": "stream",
     "text": [
      "(30, 8)\n",
      "(30, 8)\n",
      "(1, 8)\n",
      "(31, 8)\n",
      "(30, 8)\n",
      "(61, 8)\n",
      "(21, 8)\n",
      "(82, 8)\n",
      "(30, 8)\n",
      "(112, 8)\n",
      "(0, 8)\n",
      "(112, 8)\n",
      "(1, 8)\n",
      "(113, 8)\n",
      "(1, 8)\n",
      "(114, 8)\n",
      "(30, 8)\n",
      "(144, 8)\n",
      "(30, 8)\n",
      "(174, 8)\n",
      "(2, 8)\n",
      "(176, 8)\n",
      "(0, 8)\n",
      "(176, 8)\n",
      "(5, 8)\n",
      "(181, 8)\n",
      "(1, 8)\n",
      "(182, 8)\n",
      "(1, 8)\n",
      "(183, 8)\n",
      "(30, 8)\n",
      "(213, 8)\n",
      "(16, 8)\n",
      "(229, 8)\n",
      "(30, 8)\n",
      "(259, 8)\n",
      "(1, 8)\n",
      "(260, 8)\n",
      "(1, 8)\n",
      "(261, 8)\n",
      "(1, 8)\n",
      "(262, 8)\n",
      "(30, 8)\n",
      "(292, 8)\n",
      "(30, 8)\n",
      "(322, 8)\n",
      "(30, 8)\n",
      "(352, 8)\n",
      "(30, 8)\n",
      "(382, 8)\n",
      "(30, 8)\n",
      "(412, 8)\n",
      "(30, 8)\n",
      "(442, 8)\n",
      "(30, 8)\n",
      "(472, 8)\n",
      "(30, 8)\n",
      "(502, 8)\n",
      "(30, 8)\n",
      "(532, 8)\n",
      "(30, 8)\n",
      "(562, 8)\n",
      "(12, 8)\n",
      "(574, 8)\n",
      "(30, 8)\n",
      "(604, 8)\n",
      "(12, 8)\n",
      "(616, 8)\n",
      "(0, 8)\n",
      "(616, 8)\n",
      "(0, 8)\n",
      "(616, 8)\n",
      "(7, 8)\n",
      "(623, 8)\n",
      "(8, 8)\n",
      "(631, 8)\n",
      "(10, 8)\n",
      "(641, 8)\n",
      "(20, 8)\n",
      "(661, 8)\n",
      "(5, 8)\n",
      "(666, 8)\n",
      "(30, 8)\n",
      "(696, 8)\n",
      "(1, 8)\n",
      "(697, 8)\n",
      "(30, 8)\n",
      "(727, 8)\n",
      "(11, 8)\n",
      "(738, 8)\n",
      "(3, 8)\n",
      "(741, 8)\n",
      "(29, 8)\n",
      "(770, 8)\n",
      "(1, 8)\n",
      "(771, 8)\n",
      "(1, 8)\n",
      "(772, 8)\n",
      "(1, 8)\n",
      "(773, 8)\n",
      "(2, 8)\n",
      "(775, 8)\n",
      "(0, 8)\n",
      "(775, 8)\n",
      "(0, 8)\n",
      "(775, 8)\n",
      "(1, 8)\n",
      "(776, 8)\n",
      "(13, 8)\n",
      "(789, 8)\n",
      "(30, 8)\n",
      "(819, 8)\n",
      "(0, 8)\n",
      "(819, 8)\n",
      "(30, 8)\n",
      "(849, 8)\n",
      "(1, 8)\n",
      "(850, 8)\n",
      "(30, 8)\n",
      "(880, 8)\n",
      "(30, 8)\n",
      "(910, 8)\n",
      "(4, 8)\n",
      "(914, 8)\n",
      "(0, 8)\n",
      "(914, 8)\n",
      "(0, 8)\n",
      "(914, 8)\n",
      "(30, 8)\n",
      "(944, 8)\n",
      "(30, 8)\n",
      "(974, 8)\n",
      "(30, 8)\n",
      "(1004, 8)\n",
      "(1, 8)\n",
      "(1005, 8)\n",
      "(1, 8)\n",
      "(1006, 8)\n",
      "(19, 8)\n",
      "(1025, 8)\n",
      "(0, 8)\n",
      "(1025, 8)\n",
      "(1, 8)\n",
      "(1026, 8)\n",
      "(0, 8)\n",
      "(1026, 8)\n",
      "(30, 8)\n",
      "(1056, 8)\n",
      "(1, 8)\n",
      "(1057, 8)\n",
      "(30, 8)\n",
      "(1087, 8)\n",
      "(4, 8)\n",
      "(1091, 8)\n",
      "(30, 8)\n",
      "(1121, 8)\n",
      "(0, 8)\n",
      "(1121, 8)\n",
      "(30, 8)\n",
      "(1151, 8)\n",
      "(13, 8)\n",
      "(1164, 8)\n",
      "(30, 8)\n",
      "(1194, 8)\n",
      "(0, 8)\n",
      "(1194, 8)\n",
      "(2, 8)\n",
      "(1196, 8)\n",
      "(1, 8)\n",
      "(1197, 8)\n",
      "(1, 8)\n",
      "(1198, 8)\n",
      "(1, 8)\n",
      "(1199, 8)\n",
      "(1, 8)\n",
      "(1200, 8)\n",
      "(1, 8)\n",
      "(1201, 8)\n",
      "(1, 8)\n",
      "(1202, 8)\n",
      "(1, 8)\n",
      "(1203, 8)\n",
      "(19, 8)\n",
      "(1222, 8)\n",
      "(14, 8)\n",
      "(1236, 8)\n",
      "(1, 8)\n",
      "(1237, 8)\n",
      "(15, 8)\n",
      "(1252, 8)\n",
      "(30, 8)\n",
      "(1282, 8)\n",
      "(0, 8)\n",
      "(1282, 8)\n",
      "(18, 8)\n",
      "(1300, 8)\n",
      "(30, 8)\n",
      "(1330, 8)\n",
      "(1, 8)\n",
      "(1331, 8)\n",
      "(30, 8)\n",
      "(1361, 8)\n",
      "(20, 8)\n",
      "(1381, 8)\n",
      "(30, 8)\n",
      "(1411, 8)\n",
      "(1, 8)\n",
      "(1412, 8)\n",
      "(9, 8)\n",
      "(1421, 8)\n",
      "(0, 8)\n",
      "(1421, 8)\n",
      "(2, 8)\n",
      "(1423, 8)\n",
      "(7, 8)\n",
      "(1430, 8)\n",
      "(5, 8)\n",
      "(1435, 8)\n",
      "(4, 8)\n",
      "(1439, 8)\n",
      "(25, 8)\n",
      "(1464, 8)\n",
      "(30, 8)\n",
      "(1494, 8)\n",
      "(1, 8)\n",
      "(1495, 8)\n",
      "(30, 8)\n",
      "(1525, 8)\n",
      "(0, 8)\n",
      "(1525, 8)\n",
      "(0, 8)\n",
      "(1525, 8)\n",
      "(2, 8)\n",
      "(1527, 8)\n",
      "(1, 8)\n",
      "(1528, 8)\n",
      "(1, 8)\n",
      "(1529, 8)\n",
      "(30, 8)\n",
      "(1559, 8)\n",
      "(30, 8)\n",
      "(1589, 8)\n",
      "(30, 8)\n",
      "(1619, 8)\n",
      "(0, 8)\n",
      "(1619, 8)\n",
      "(0, 8)\n",
      "(1619, 8)\n",
      "(1, 8)\n",
      "(1620, 8)\n",
      "(12, 8)\n",
      "(1632, 8)\n",
      "(1, 8)\n",
      "(1633, 8)\n",
      "(9, 8)\n",
      "(1642, 8)\n",
      "(6, 8)\n",
      "(1648, 8)\n",
      "(1, 8)\n",
      "(1649, 8)\n",
      "(21, 8)\n",
      "(1670, 8)\n",
      "(11, 8)\n",
      "(1681, 8)\n",
      "(0, 8)\n",
      "(1681, 8)\n",
      "(0, 8)\n",
      "(1681, 8)\n",
      "(1, 8)\n",
      "(1682, 8)\n",
      "(0, 8)\n",
      "(1682, 8)\n",
      "(0, 8)\n",
      "(1682, 8)\n",
      "(3, 8)\n",
      "(1685, 8)\n",
      "(13, 8)\n",
      "(1698, 8)\n",
      "(30, 8)\n",
      "(1728, 8)\n",
      "(12, 8)\n",
      "(1740, 8)\n",
      "(1, 8)\n",
      "(1741, 8)\n",
      "(30, 8)\n",
      "(1771, 8)\n",
      "(30, 8)\n",
      "(1801, 8)\n",
      "(0, 8)\n",
      "(1801, 8)\n",
      "(7, 8)\n",
      "(1808, 8)\n",
      "(0, 8)\n",
      "(1808, 8)\n",
      "(0, 8)\n",
      "(1808, 8)\n",
      "(30, 8)\n",
      "(1838, 8)\n",
      "(1, 8)\n",
      "(1839, 8)\n",
      "(3, 8)\n",
      "(1842, 8)\n",
      "(3, 8)\n",
      "(1845, 8)\n",
      "(1, 8)\n",
      "(1846, 8)\n",
      "(19, 8)\n",
      "(1865, 8)\n",
      "(30, 8)\n",
      "(1895, 8)\n",
      "(0, 8)\n",
      "(1895, 8)\n",
      "(24, 8)\n",
      "(1919, 8)\n",
      "(1, 8)\n",
      "(1920, 8)\n",
      "(0, 8)\n",
      "(1920, 8)\n",
      "(30, 8)\n",
      "(1950, 8)\n",
      "(1, 8)\n",
      "(1951, 8)\n",
      "(2, 8)\n",
      "(1953, 8)\n",
      "(13, 8)\n",
      "(1966, 8)\n",
      "(30, 8)\n",
      "(1996, 8)\n",
      "(0, 8)\n",
      "(1996, 8)\n",
      "(1, 8)\n",
      "(1997, 8)\n",
      "(0, 8)\n",
      "(1997, 8)\n",
      "(0, 8)\n",
      "(1997, 8)\n",
      "(6, 8)\n",
      "(2003, 8)\n",
      "(11, 8)\n",
      "(2014, 8)\n",
      "(30, 8)\n",
      "(2044, 8)\n",
      "(11, 8)\n",
      "(2055, 8)\n",
      "(2, 8)\n",
      "(2057, 8)\n",
      "(0, 8)\n",
      "(2057, 8)\n",
      "(30, 8)\n",
      "(2087, 8)\n",
      "(1, 8)\n",
      "(2088, 8)\n",
      "(30, 8)\n",
      "(2118, 8)\n",
      "(1, 8)\n",
      "(2119, 8)\n",
      "(30, 8)\n",
      "(2149, 8)\n",
      "(30, 8)\n",
      "(2179, 8)\n",
      "(0, 8)\n",
      "(2179, 8)\n",
      "(0, 8)\n",
      "(2179, 8)\n",
      "(13, 8)\n",
      "(2192, 8)\n",
      "(0, 8)\n",
      "(2192, 8)\n",
      "(0, 8)\n",
      "(2192, 8)\n",
      "(4, 8)\n",
      "(2196, 8)\n",
      "(2, 8)\n",
      "(2198, 8)\n",
      "(1, 8)\n",
      "(2199, 8)\n",
      "(0, 8)\n",
      "(2199, 8)\n",
      "(20, 8)\n",
      "(2219, 8)\n",
      "(18, 8)\n",
      "(2237, 8)\n",
      "(30, 8)\n",
      "(2267, 8)\n",
      "(17, 8)\n",
      "(2284, 8)\n",
      "(30, 8)\n",
      "(2314, 8)\n",
      "(0, 8)\n",
      "(2314, 8)\n",
      "(30, 8)\n",
      "(2344, 8)\n",
      "(30, 8)\n",
      "(2374, 8)\n",
      "(1, 8)\n",
      "(2375, 8)\n",
      "(2, 8)\n",
      "(2377, 8)\n",
      "(2, 8)\n",
      "(2379, 8)\n",
      "(4, 8)\n",
      "(2383, 8)\n",
      "(5, 8)\n",
      "(2388, 8)\n",
      "(5, 8)\n",
      "(2393, 8)\n",
      "(0, 8)\n",
      "(2393, 8)\n",
      "(30, 8)\n",
      "(2423, 8)\n",
      "(0, 8)\n",
      "(2423, 8)\n",
      "(9, 8)\n",
      "(2432, 8)\n",
      "(25, 8)\n",
      "(2457, 8)\n",
      "(10, 8)\n",
      "(2467, 8)\n",
      "(30, 8)\n",
      "(2497, 8)\n",
      "(0, 8)\n",
      "(2497, 8)\n",
      "(21, 8)\n",
      "(2518, 8)\n",
      "(30, 8)\n",
      "(2548, 8)\n",
      "(30, 8)\n",
      "(2578, 8)\n",
      "(11, 8)\n",
      "(2589, 8)\n",
      "(25, 8)\n",
      "(2614, 8)\n",
      "(0, 8)\n",
      "(2614, 8)\n",
      "(1, 8)\n",
      "(2615, 8)\n",
      "(1, 8)\n",
      "(2616, 8)\n",
      "(6, 8)\n",
      "(2622, 8)\n",
      "(0, 8)\n",
      "(2622, 8)\n",
      "(30, 8)\n",
      "(2652, 8)\n",
      "(30, 8)\n",
      "(2682, 8)\n",
      "(8, 8)\n",
      "(2690, 8)\n",
      "(9, 8)\n",
      "(2699, 8)\n",
      "(30, 8)\n",
      "(2729, 8)\n",
      "(0, 8)\n",
      "(2729, 8)\n",
      "(1, 8)\n",
      "(2730, 8)\n",
      "(1, 8)\n",
      "(2731, 8)\n",
      "(30, 8)\n",
      "(2761, 8)\n",
      "(23, 8)\n",
      "(2784, 8)\n",
      "(22, 8)\n",
      "(2806, 8)\n",
      "(0, 8)\n",
      "(2806, 8)\n"
     ]
    }
   ],
   "source": [
    "analyst_ids=list(new.analyst_id.unique())\n",
    "df_stocks_cov = pd.DataFrame(columns=['Ticker','Reports','Quarters','Points','Pts_Est','Error_Rate','Accuracy','Analyst_id'])\n",
    "    \n",
    "for tic in analyst_ids:\n",
    "    df_stocks_cov1 = pd.DataFrame()\n",
    "    options = webdriver.ChromeOptions()\n",
    "    options.headless = False\n",
    "    browser = webdriver.Chrome(executable_path = '/Users/arunk/Downloads/chromedriver',chrome_options = options)\n",
    "    link = 'https://www.estimize.com/users/'+str.lower(tic)\n",
    "    browser.get(link)\n",
    "    browser.execute_script(\"window.scrollTo(0, window.scrollY + 1300)\") #scrolling to a particular height\n",
    "    time.sleep(5)\n",
    "    try:\n",
    "        browser.find_element_by_xpath('//*[@id=\"profile-covered-stocks\"]/div[2]').click()\n",
    "    except Exception:\n",
    "        pass\n",
    "\n",
    "    df_stocks_cov1['Ticker']= [i.text for i in browser.find_elements_by_xpath('//*[@id=\"profile-covered-stocks\"]/div[1]/div[2]/div/div[1]')]\n",
    "    \n",
    "    df_stocks_cov1['Reports'] = [i.text for i in browser.find_elements_by_xpath('//*[@id=\"profile-covered-stocks\"]/div[1]/div[2]/div/div[2]')]\n",
    "    df_stocks_cov1['Quarters'] = [i.text for i in browser.find_elements_by_xpath('//*[@id=\"profile-covered-stocks\"]/div[1]/div[2]/div/div[3]')]\n",
    "    df_stocks_cov1['Points'] = [i.text for i in browser.find_elements_by_xpath('//*[@id=\"profile-covered-stocks\"]/div[1]/div[2]/div/div[4]')]\n",
    "    df_stocks_cov1['Error_Rate'] = [i.text.replace('%','') for i in browser.find_elements_by_xpath('//*[@id=\"profile-covered-stocks\"]/div[1]/div[2]/div/div[6]')]\n",
    "    df_stocks_cov1['Accuracy'] = [i.text.replace('%','') for i in browser.find_elements_by_xpath('//*[@id=\"profile-covered-stocks\"]/div[1]/div[2]/div/div[7]')]\n",
    "    df_stocks_cov1['Analyst_id'] = [tic]*len(browser.find_elements_by_xpath('//*[@id=\"profile-covered-stocks\"]/div[1]/div[2]/div/div[1]'))\n",
    "    df_stocks_cov1['Pts_Est'] = [i.text for i in browser.find_elements_by_xpath('//*[@id=\"profile-covered-stocks\"]/div[1]/div[2]/div/div[5]')]\n",
    "\n",
    "    df_stocks_cov = df_stocks_cov.append(df_stocks_cov1,ignore_index=True)\n",
    "    print(df_stocks_cov1.shape)\n",
    "    print(df_stocks_cov.shape)\n",
    "    browser.quit()\n"
   ]
  },
  {
   "cell_type": "code",
   "execution_count": 1197,
   "id": "b1ed9f23",
   "metadata": {
    "ExecuteTime": {
     "end_time": "2021-12-09T06:50:36.528083Z",
     "start_time": "2021-12-09T06:50:36.522098Z"
    }
   },
   "outputs": [
    {
     "data": {
      "text/plain": [
       "(2806, 8)"
      ]
     },
     "execution_count": 1197,
     "metadata": {},
     "output_type": "execute_result"
    }
   ],
   "source": [
    "# for i in browser.find_elements_by_xpath('//*[@id=\"profile-covered-stocks\"]/div[1]/div[2]/div/div[4]'):\n",
    "#     print(i.text)\n",
    "df_stocks_cov.shape"
   ]
  },
  {
   "cell_type": "code",
   "execution_count": 1198,
   "id": "8fc3bddb",
   "metadata": {
    "ExecuteTime": {
     "end_time": "2021-12-09T06:50:58.640181Z",
     "start_time": "2021-12-09T06:50:58.611258Z"
    }
   },
   "outputs": [],
   "source": [
    "df_stocks_cov.to_csv('stocks_covered.csv')"
   ]
  },
  {
   "cell_type": "code",
   "execution_count": null,
   "id": "6fbd26d9",
   "metadata": {},
   "outputs": [],
   "source": []
  },
  {
   "cell_type": "markdown",
   "id": "bc94778d",
   "metadata": {
    "ExecuteTime": {
     "end_time": "2021-12-14T01:21:59.535814Z",
     "start_time": "2021-12-14T01:21:59.522849Z"
    }
   },
   "source": [
    "# Connection to Database"
   ]
  },
  {
   "cell_type": "code",
   "execution_count": 2,
   "id": "289e1037",
   "metadata": {
    "ExecuteTime": {
     "end_time": "2021-12-07T04:45:03.430943Z",
     "start_time": "2021-12-07T04:45:00.710967Z"
    }
   },
   "outputs": [
    {
     "name": "stdout",
     "output_type": "stream",
     "text": [
      "Collecting ipython-sql\n",
      "  Downloading ipython_sql-0.4.1-py3-none-any.whl (21 kB)\n",
      "Requirement already satisfied: sqlalchemy>=0.6.7 in c:\\users\\admin\\anaconda3\\lib\\site-packages (from ipython-sql) (1.4.32)\n",
      "Requirement already satisfied: ipython-genutils>=0.1.0 in c:\\users\\admin\\anaconda3\\lib\\site-packages (from ipython-sql) (0.2.0)\n",
      "Collecting sqlparse\n",
      "  Downloading sqlparse-0.4.3-py3-none-any.whl (42 kB)\n",
      "Requirement already satisfied: six in c:\\users\\admin\\anaconda3\\lib\\site-packages (from ipython-sql) (1.16.0)\n",
      "Collecting prettytable<1\n",
      "  Downloading prettytable-0.7.2.zip (28 kB)\n",
      "Requirement already satisfied: ipython>=1.0 in c:\\users\\admin\\anaconda3\\lib\\site-packages (from ipython-sql) (8.2.0)\n",
      "Requirement already satisfied: pygments>=2.4.0 in c:\\users\\admin\\anaconda3\\lib\\site-packages (from ipython>=1.0->ipython-sql) (2.11.2)\n",
      "Requirement already satisfied: stack-data in c:\\users\\admin\\anaconda3\\lib\\site-packages (from ipython>=1.0->ipython-sql) (0.2.0)\n",
      "Requirement already satisfied: decorator in c:\\users\\admin\\anaconda3\\lib\\site-packages (from ipython>=1.0->ipython-sql) (5.1.1)\n",
      "Requirement already satisfied: setuptools>=18.5 in c:\\users\\admin\\anaconda3\\lib\\site-packages (from ipython>=1.0->ipython-sql) (61.2.0)\n",
      "Requirement already satisfied: traitlets>=5 in c:\\users\\admin\\anaconda3\\lib\\site-packages (from ipython>=1.0->ipython-sql) (5.1.1)\n",
      "Requirement already satisfied: matplotlib-inline in c:\\users\\admin\\anaconda3\\lib\\site-packages (from ipython>=1.0->ipython-sql) (0.1.2)\n",
      "Requirement already satisfied: jedi>=0.16 in c:\\users\\admin\\anaconda3\\lib\\site-packages (from ipython>=1.0->ipython-sql) (0.18.1)\n",
      "Requirement already satisfied: colorama in c:\\users\\admin\\anaconda3\\lib\\site-packages (from ipython>=1.0->ipython-sql) (0.4.4)\n",
      "Requirement already satisfied: backcall in c:\\users\\admin\\anaconda3\\lib\\site-packages (from ipython>=1.0->ipython-sql) (0.2.0)\n",
      "Requirement already satisfied: pickleshare in c:\\users\\admin\\anaconda3\\lib\\site-packages (from ipython>=1.0->ipython-sql) (0.7.5)\n",
      "Requirement already satisfied: prompt-toolkit!=3.0.0,!=3.0.1,<3.1.0,>=2.0.0 in c:\\users\\admin\\anaconda3\\lib\\site-packages (from ipython>=1.0->ipython-sql) (3.0.20)\n",
      "Requirement already satisfied: parso<0.9.0,>=0.8.0 in c:\\users\\admin\\anaconda3\\lib\\site-packages (from jedi>=0.16->ipython>=1.0->ipython-sql) (0.8.3)\n",
      "Requirement already satisfied: wcwidth in c:\\users\\admin\\anaconda3\\lib\\site-packages (from prompt-toolkit!=3.0.0,!=3.0.1,<3.1.0,>=2.0.0->ipython>=1.0->ipython-sql) (0.2.5)\n",
      "Requirement already satisfied: greenlet!=0.4.17 in c:\\users\\admin\\anaconda3\\lib\\site-packages (from sqlalchemy>=0.6.7->ipython-sql) (1.1.1)\n",
      "Requirement already satisfied: pure-eval in c:\\users\\admin\\anaconda3\\lib\\site-packages (from stack-data->ipython>=1.0->ipython-sql) (0.2.2)\n",
      "Requirement already satisfied: asttokens in c:\\users\\admin\\anaconda3\\lib\\site-packages (from stack-data->ipython>=1.0->ipython-sql) (2.0.5)\n",
      "Requirement already satisfied: executing in c:\\users\\admin\\anaconda3\\lib\\site-packages (from stack-data->ipython>=1.0->ipython-sql) (0.8.3)\n",
      "Building wheels for collected packages: prettytable\n",
      "  Building wheel for prettytable (setup.py): started\n",
      "  Building wheel for prettytable (setup.py): finished with status 'done'\n",
      "  Created wheel for prettytable: filename=prettytable-0.7.2-py3-none-any.whl size=13714 sha256=6ea3d5dc4abf01821ae8e740c6b669068bb7253691c16f71e4e8ad75e93d6da1\n",
      "  Stored in directory: c:\\users\\admin\\appdata\\local\\pip\\cache\\wheels\\75\\f7\\28\\77a076f1fa8cbeda61aca712815d04d7a32435f04a26a2dd7b\n",
      "Successfully built prettytable\n",
      "Installing collected packages: sqlparse, prettytable, ipython-sql\n",
      "Successfully installed ipython-sql-0.4.1 prettytable-0.7.2 sqlparse-0.4.3\n",
      "Collecting mysqlclient\n",
      "  Downloading mysqlclient-2.1.1-cp39-cp39-win_amd64.whl (178 kB)\n",
      "Installing collected packages: mysqlclient\n",
      "Successfully installed mysqlclient-2.1.1\n",
      "Collecting pymysql\n",
      "  Downloading PyMySQL-1.0.2-py3-none-any.whl (43 kB)\n",
      "Installing collected packages: pymysql\n",
      "Successfully installed pymysql-1.0.2\n"
     ]
    }
   ],
   "source": [
    "!pip3 install ipython-sql\n",
    "!pip3 install mysqlclient\n",
    "!pip install pymysql"
   ]
  },
  {
   "cell_type": "code",
   "execution_count": 4,
   "id": "98765b75",
   "metadata": {
    "ExecuteTime": {
     "end_time": "2021-12-08T01:08:01.800333Z",
     "start_time": "2021-12-08T01:08:01.769489Z"
    }
   },
   "outputs": [
    {
     "name": "stdout",
     "output_type": "stream",
     "text": [
      "Database is created\n"
     ]
    }
   ],
   "source": [
    "import mysql.connector as msql\n",
    "from mysql.connector import Error\n",
    "try:\n",
    "    conn = msql.connect(host='localhost', user='root',  \n",
    "                        password='123456789')#give ur username, password\n",
    "    if conn.is_connected():\n",
    "        cursor = conn.cursor()\n",
    "        cursor.execute(\"CREATE DATABASE Estimize\")\n",
    "        print(\"Database is created\")\n",
    "except Error as e:\n",
    "    print(\"Error while connecting to MySQL\", e)"
   ]
  },
  {
   "cell_type": "code",
   "execution_count": 5,
   "id": "39a93137",
   "metadata": {},
   "outputs": [],
   "source": [
    "## Commpany Info Insertion"
   ]
  },
  {
   "cell_type": "code",
   "execution_count": 7,
   "id": "233a673e",
   "metadata": {},
   "outputs": [],
   "source": [
    "import pandas as pd"
   ]
  },
  {
   "cell_type": "code",
   "execution_count": 80,
   "id": "41078751",
   "metadata": {
    "ExecuteTime": {
     "end_time": "2021-12-09T16:19:16.781802Z",
     "start_time": "2021-12-09T16:19:16.758864Z"
    }
   },
   "outputs": [
    {
     "data": {
      "text/html": [
       "<div>\n",
       "<style scoped>\n",
       "    .dataframe tbody tr th:only-of-type {\n",
       "        vertical-align: middle;\n",
       "    }\n",
       "\n",
       "    .dataframe tbody tr th {\n",
       "        vertical-align: top;\n",
       "    }\n",
       "\n",
       "    .dataframe thead th {\n",
       "        text-align: right;\n",
       "    }\n",
       "</style>\n",
       "<table border=\"1\" class=\"dataframe\">\n",
       "  <thead>\n",
       "    <tr style=\"text-align: right;\">\n",
       "      <th></th>\n",
       "      <th>Ticker</th>\n",
       "      <th>Name</th>\n",
       "      <th>Sector</th>\n",
       "      <th>industries</th>\n",
       "      <th>no.of.followers</th>\n",
       "      <th>no.of.analysts</th>\n",
       "      <th>q1_2020_Reported_Earnings</th>\n",
       "      <th>q1_2020_Estimize_Consensus</th>\n",
       "      <th>q1_2020_Estimize_Mean</th>\n",
       "      <th>q1_2020_Wallstreet_consensus</th>\n",
       "      <th>...</th>\n",
       "      <th>q1_2022_Estimize_Mean</th>\n",
       "      <th>q1_2022_Wallstreet_consensus</th>\n",
       "      <th>q2_2022_Reported_Earnings</th>\n",
       "      <th>q2_2022_Estimize_Consensus</th>\n",
       "      <th>q2_2022_Estimize_Mean</th>\n",
       "      <th>q2_2022_Wallstreet_consensus</th>\n",
       "      <th>q3_2022_Reported_Earnings</th>\n",
       "      <th>q3_2022_Estimize_Consensus</th>\n",
       "      <th>q3_2022_Estimize_Mean</th>\n",
       "      <th>q3_2022_Wallstreet_consensus</th>\n",
       "    </tr>\n",
       "  </thead>\n",
       "  <tbody>\n",
       "    <tr>\n",
       "      <th>0</th>\n",
       "      <td>AMZN</td>\n",
       "      <td>Amazon.com Inc.</td>\n",
       "      <td>Consumer Discretionary</td>\n",
       "      <td>Internet &amp; Catalog Retail</td>\n",
       "      <td>10,604</td>\n",
       "      <td>6,736</td>\n",
       "      <td>0.25</td>\n",
       "      <td>0.33</td>\n",
       "      <td>0.34</td>\n",
       "      <td>0.31</td>\n",
       "      <td>...</td>\n",
       "      <td>0.52</td>\n",
       "      <td>0.42</td>\n",
       "      <td>0.10</td>\n",
       "      <td>0.17</td>\n",
       "      <td>0.26</td>\n",
       "      <td>0.12</td>\n",
       "      <td>0.28</td>\n",
       "      <td>0.26</td>\n",
       "      <td>0.29</td>\n",
       "      <td>0.22</td>\n",
       "    </tr>\n",
       "    <tr>\n",
       "      <th>1</th>\n",
       "      <td>AAPL</td>\n",
       "      <td>Apple Inc.</td>\n",
       "      <td>Information Technology</td>\n",
       "      <td>Computers &amp; Peripherals</td>\n",
       "      <td>37,719</td>\n",
       "      <td>11,974</td>\n",
       "      <td>1.25</td>\n",
       "      <td>1.15</td>\n",
       "      <td>1.14</td>\n",
       "      <td>1.13</td>\n",
       "      <td>...</td>\n",
       "      <td>1.92</td>\n",
       "      <td>1.90</td>\n",
       "      <td>1.52</td>\n",
       "      <td>1.51</td>\n",
       "      <td>1.49</td>\n",
       "      <td>1.42</td>\n",
       "      <td>1.20</td>\n",
       "      <td>1.23</td>\n",
       "      <td>1.23</td>\n",
       "      <td>1.16</td>\n",
       "    </tr>\n",
       "    <tr>\n",
       "      <th>2</th>\n",
       "      <td>MSFT</td>\n",
       "      <td>Microsoft Corporation</td>\n",
       "      <td>Information Technology</td>\n",
       "      <td>Software</td>\n",
       "      <td>15,491</td>\n",
       "      <td>4,301</td>\n",
       "      <td>1.38</td>\n",
       "      <td>1.31</td>\n",
       "      <td>1.29</td>\n",
       "      <td>1.25</td>\n",
       "      <td>...</td>\n",
       "      <td>2.18</td>\n",
       "      <td>2.08</td>\n",
       "      <td>2.48</td>\n",
       "      <td>2.41</td>\n",
       "      <td>2.39</td>\n",
       "      <td>2.32</td>\n",
       "      <td>2.22</td>\n",
       "      <td>2.29</td>\n",
       "      <td>2.29</td>\n",
       "      <td>2.19</td>\n",
       "    </tr>\n",
       "    <tr>\n",
       "      <th>3</th>\n",
       "      <td>GOOGL</td>\n",
       "      <td>Alphabet Inc.</td>\n",
       "      <td>Information Technology</td>\n",
       "      <td>Internet Software &amp; Services</td>\n",
       "      <td>21,329</td>\n",
       "      <td>5,525</td>\n",
       "      <td>0.49</td>\n",
       "      <td>0.55</td>\n",
       "      <td>0.56</td>\n",
       "      <td>0.53</td>\n",
       "      <td>...</td>\n",
       "      <td>1.34</td>\n",
       "      <td>1.29</td>\n",
       "      <td>1.21</td>\n",
       "      <td>1.30</td>\n",
       "      <td>1.31</td>\n",
       "      <td>1.27</td>\n",
       "      <td>1.06</td>\n",
       "      <td>1.29</td>\n",
       "      <td>1.30</td>\n",
       "      <td>1.26</td>\n",
       "    </tr>\n",
       "    <tr>\n",
       "      <th>4</th>\n",
       "      <td>TSLA</td>\n",
       "      <td>Tesla Inc.</td>\n",
       "      <td>Consumer Discretionary</td>\n",
       "      <td>Automobiles</td>\n",
       "      <td>9,118</td>\n",
       "      <td>7,654</td>\n",
       "      <td>0.08</td>\n",
       "      <td>-0.02</td>\n",
       "      <td>0.00</td>\n",
       "      <td>-0.02</td>\n",
       "      <td>...</td>\n",
       "      <td>0.80</td>\n",
       "      <td>0.75</td>\n",
       "      <td>0.76</td>\n",
       "      <td>0.66</td>\n",
       "      <td>0.72</td>\n",
       "      <td>0.60</td>\n",
       "      <td>1.05</td>\n",
       "      <td>1.09</td>\n",
       "      <td>1.09</td>\n",
       "      <td>1.00</td>\n",
       "    </tr>\n",
       "  </tbody>\n",
       "</table>\n",
       "<p>5 rows × 50 columns</p>\n",
       "</div>"
      ],
      "text/plain": [
       "  Ticker                   Name                  Sector  \\\n",
       "0   AMZN        Amazon.com Inc.  Consumer Discretionary   \n",
       "1   AAPL             Apple Inc.  Information Technology   \n",
       "2   MSFT  Microsoft Corporation  Information Technology   \n",
       "3  GOOGL          Alphabet Inc.  Information Technology   \n",
       "4   TSLA             Tesla Inc.  Consumer Discretionary   \n",
       "\n",
       "                     industries no.of.followers no.of.analysts  \\\n",
       "0     Internet & Catalog Retail          10,604          6,736   \n",
       "1       Computers & Peripherals          37,719         11,974   \n",
       "2                      Software          15,491          4,301   \n",
       "3  Internet Software & Services          21,329          5,525   \n",
       "4                   Automobiles           9,118          7,654   \n",
       "\n",
       "  q1_2020_Reported_Earnings  q1_2020_Estimize_Consensus  \\\n",
       "0                      0.25                        0.33   \n",
       "1                      1.25                        1.15   \n",
       "2                      1.38                        1.31   \n",
       "3                      0.49                        0.55   \n",
       "4                      0.08                       -0.02   \n",
       "\n",
       "   q1_2020_Estimize_Mean  q1_2020_Wallstreet_consensus  ...  \\\n",
       "0                   0.34                          0.31  ...   \n",
       "1                   1.14                          1.13  ...   \n",
       "2                   1.29                          1.25  ...   \n",
       "3                   0.56                          0.53  ...   \n",
       "4                   0.00                         -0.02  ...   \n",
       "\n",
       "  q1_2022_Estimize_Mean  q1_2022_Wallstreet_consensus  \\\n",
       "0                  0.52                          0.42   \n",
       "1                  1.92                          1.90   \n",
       "2                  2.18                          2.08   \n",
       "3                  1.34                          1.29   \n",
       "4                  0.80                          0.75   \n",
       "\n",
       "   q2_2022_Reported_Earnings  q2_2022_Estimize_Consensus  \\\n",
       "0                       0.10                        0.17   \n",
       "1                       1.52                        1.51   \n",
       "2                       2.48                        2.41   \n",
       "3                       1.21                        1.30   \n",
       "4                       0.76                        0.66   \n",
       "\n",
       "  q2_2022_Estimize_Mean  q2_2022_Wallstreet_consensus  \\\n",
       "0                  0.26                          0.12   \n",
       "1                  1.49                          1.42   \n",
       "2                  2.39                          2.32   \n",
       "3                  1.31                          1.27   \n",
       "4                  0.72                          0.60   \n",
       "\n",
       "   q3_2022_Reported_Earnings  q3_2022_Estimize_Consensus  \\\n",
       "0                       0.28                        0.26   \n",
       "1                       1.20                        1.23   \n",
       "2                       2.22                        2.29   \n",
       "3                       1.06                        1.29   \n",
       "4                       1.05                        1.09   \n",
       "\n",
       "  q3_2022_Estimize_Mean  q3_2022_Wallstreet_consensus  \n",
       "0                  0.29                          0.22  \n",
       "1                  1.23                          1.16  \n",
       "2                  2.29                          2.19  \n",
       "3                  1.30                          1.26  \n",
       "4                  1.09                          1.00  \n",
       "\n",
       "[5 rows x 50 columns]"
      ]
     },
     "execution_count": 80,
     "metadata": {},
     "output_type": "execute_result"
    }
   ],
   "source": [
    "company_info = pd.read_csv('C:/Users/admin/Desktop/Data Management for Analytics/CompanyBasicInfo.csv')\n",
    "company_info.head()"
   ]
  },
  {
   "cell_type": "code",
   "execution_count": 52,
   "id": "2a8f1ff7",
   "metadata": {
    "ExecuteTime": {
     "end_time": "2021-12-09T16:19:17.449704Z",
     "start_time": "2021-12-09T16:19:17.431752Z"
    }
   },
   "outputs": [
    {
     "data": {
      "text/plain": [
       "Index(['Ticker', 'Name', 'Sector', 'industries', 'no.of.followers',\n",
       "       'no.of.analysts', 'q1_2020_Reported_Earnings',\n",
       "       'q1_2020_Estimize_Consensus', 'q1_2020_Estimize_Mean',\n",
       "       'q1_2020_Wallstreet_consensus', 'q2_2020_Reported_Earnings',\n",
       "       'q2_2020_Estimize_Consensus', 'q2_2020_Estimize_Mean',\n",
       "       'q2_2020_Wallstreet_consensus', 'q3_2020_Reported_Earnings',\n",
       "       'q3_2020_Estimize_Consensus', 'q3_2020_Estimize_Mean',\n",
       "       'q3_2020_Wallstreet_consensus', 'q4_2020_Reported_Earnings',\n",
       "       'q4_2020_Estimize_Consensus', 'q4_2020_Estimize_Mean',\n",
       "       'q4_2020_Wallstreet_consensus', 'q1_2021_Reported_Earnings',\n",
       "       'q1_2021_Estimize_Consensus', 'q1_2021_Estimize_Mean',\n",
       "       'q1_2021_Wallstreet_consensus', 'q2_2021_Reported_Earnings',\n",
       "       'q2_2021_Estimize_Consensus', 'q2_2021_Estimize_Mean',\n",
       "       'q2_2021_Wallstreet_consensus', 'q3_2021_Reported_Earnings',\n",
       "       'q3_2021_Estimize_Consensus', 'q3_2021_Estimize_Mean',\n",
       "       'q3_2021_Wallstreet_consensus', 'q4_2021_Reported_Earnings',\n",
       "       'q4_2021_Estimize_Consensus', 'q4_2021_Estimize_Mean',\n",
       "       'q4_2021_Wallstreet_consensus', 'q1_2022_Reported_Earnings',\n",
       "       'q1_2022_Estimize_Consensus', 'q1_2022_Estimize_Mean',\n",
       "       'q1_2022_Wallstreet_consensus', 'q2_2022_Reported_Earnings',\n",
       "       'q2_2022_Estimize_Consensus', 'q2_2022_Estimize_Mean',\n",
       "       'q2_2022_Wallstreet_consensus', 'q3_2022_Reported_Earnings',\n",
       "       'q3_2022_Estimize_Consensus', 'q3_2022_Estimize_Mean',\n",
       "       'q3_2022_Wallstreet_consensus'],\n",
       "      dtype='object')"
      ]
     },
     "execution_count": 52,
     "metadata": {},
     "output_type": "execute_result"
    }
   ],
   "source": [
    "company_info.columns"
   ]
  },
  {
   "cell_type": "markdown",
   "id": "eca3deff",
   "metadata": {},
   "source": [
    "### creation and insertion of data into \"company_info\" table"
   ]
  },
  {
   "cell_type": "code",
   "execution_count": 54,
   "id": "f1cae6b6",
   "metadata": {
    "ExecuteTime": {
     "end_time": "2021-12-09T16:21:05.263734Z",
     "start_time": "2021-12-09T16:21:05.042262Z"
    }
   },
   "outputs": [
    {
     "name": "stdout",
     "output_type": "stream",
     "text": [
      "Connected:  ('estimize',)\n",
      "Creating table\n",
      "Table created\n",
      "Conection Error 1054 (42S22): Unknown column 'nan' in 'field list'\n"
     ]
    }
   ],
   "source": [
    "import mysql.connector as msql\n",
    "from mysql.connector import Error\n",
    "try:\n",
    "    connection = msql.connect(host='localhost', database='estimize', user='root', password='123456789')\n",
    "    if connection.is_connected():\n",
    "        cursor = conn.cursor()\n",
    "        cursor.execute(\"select database();\")\n",
    "        record = cursor.fetchone()\n",
    "        print(\"Connected: \", record)\n",
    "        cursor.execute('DROP TABLE IF EXISTS company_info;')\n",
    "        print('Creating table')\n",
    "        cursor.execute(\"CREATE TABLE company_info(tickers varchar(255) PRIMARY KEY,names varchar(255),sectors varchar(255),industries varchar(255),number_of_followers varchar(255),number_of_analysts varchar(255), q1_2020_Reported_Earnings varchar(255),  q1_2020_Estimize_Consensus int , q1_2020_Estimize_Mean int, q1_2020_Wallstreet_consensus int, q2_2020_Reported_Earnings varchar(255), q2_2020_Estimize_Consensus int, q2_2020_Estimize_Mean int, q2_2020_Wallstreet_consensus int, q3_2020_Reported_Earnings varchar(255),q3_2020_Estimize_Consensus int, q3_2020_Estimize_Mean int,q3_2020_Wallstreet_consensus int, q4_2020_Reported_Earnings varchar(255),q4_2020_Estimize_Consensus int, q4_2020_Estimize_Mean int, q4_2020_Wallstreet_consensus int, q1_2021_Reported_Earnings varchar(255),  q1_2021_Estimize_Consensus int, q1_2021_Estimize_Mean int,q1_2021_Wallstreet_consensus int, q2_2021_Reported_Earnings varchar(255),q2_2021_Estimize_Consensus int, q2_2021_Estimize_Mean int,q2_2021_Wallstreet_consensus int, q3_2021_Reported_Earnings varchar(255), q3_2021_Estimize_Consensus int, q3_2021_Estimize_Mean int,q3_2021_Wallstreet_consensus int, q4_2021_Reported_Earnings varchar(255),q4_2021_Estimize_Consensus int, q4_2021_Estimize_Mean int,q4_2021_Wallstreet_consensus int, q1_2022_Reported_Earnings varchar(255),q1_2022_Estimize_Consensus int, q1_2022_Estimize_Mean int, q1_2022_Wallstreet_consensus int, q2_2022_Reported_Earnings varchar(255), q2_2022_Estimize_Consensus int, q2_2022_Estimize_Mean int, q2_2022_Wallstreet_consensus int, q3_2022_Reported_Earnings varchar(255), q3_2022_Estimize_Consensus int, q3_2022_Estimize_Mean int,q3_2022_Wallstreet_consensus int)\")\n",
    "        print(\"Table created\")\n",
    "  \n",
    "        for values,row in company_info.iterrows():    \n",
    "               \n",
    "            sql = \"INSERT INTO estimize.company_info VALUES (%s,%s,%s,%s,%s,%s,%s,%s,%s,%s,%s,%s,%s,%s,%s,%s,%s,%s,%s,%s,%s,%s,%s,%s,%s,%s,%s,%s,%s,%s,%s,%s,%s,%s,%s,%s,%s,%s,%s,%s,%s,%s,%s,%s,%s,%s,%s,%s,%s,%s )\"\n",
    "            cursor.execute(sql, tuple(row))\n",
    "            conn.commit()\n",
    "except Error as e:\n",
    "            print(\"Conection Error\", e)"
   ]
  },
  {
   "cell_type": "markdown",
   "id": "53afed57",
   "metadata": {},
   "source": [
    "### Data pre-processing of predictions_quarterly before loading the data into the database"
   ]
  },
  {
   "cell_type": "code",
   "execution_count": 40,
   "id": "73e206f3",
   "metadata": {
    "ExecuteTime": {
     "end_time": "2021-12-09T16:21:11.513147Z",
     "start_time": "2021-12-09T16:21:11.500182Z"
    }
   },
   "outputs": [],
   "source": [
    "import pandas as pd"
   ]
  },
  {
   "cell_type": "code",
   "execution_count": 6,
   "id": "7958ec70",
   "metadata": {
    "ExecuteTime": {
     "end_time": "2021-12-14T00:24:27.805238Z",
     "start_time": "2021-12-14T00:24:27.737535Z"
    }
   },
   "outputs": [],
   "source": [
    "predictions_quarterly = pd.read_csv('C:/Users/arunk/Downloads/DM_Project_Files/predictions_quarterly_keerthi.csv')"
   ]
  },
  {
   "cell_type": "code",
   "execution_count": 7,
   "id": "d2a5bf03",
   "metadata": {
    "ExecuteTime": {
     "end_time": "2021-12-14T00:24:39.781542Z",
     "start_time": "2021-12-14T00:24:39.758604Z"
    }
   },
   "outputs": [
    {
     "data": {
      "text/html": [
       "<div>\n",
       "<style scoped>\n",
       "    .dataframe tbody tr th:only-of-type {\n",
       "        vertical-align: middle;\n",
       "    }\n",
       "\n",
       "    .dataframe tbody tr th {\n",
       "        vertical-align: top;\n",
       "    }\n",
       "\n",
       "    .dataframe thead th {\n",
       "        text-align: right;\n",
       "    }\n",
       "</style>\n",
       "<table border=\"1\" class=\"dataframe\">\n",
       "  <thead>\n",
       "    <tr style=\"text-align: right;\">\n",
       "      <th></th>\n",
       "      <th>ticker</th>\n",
       "      <th>year</th>\n",
       "      <th>Analysts</th>\n",
       "      <th>value</th>\n",
       "      <th>Analyst_id</th>\n",
       "    </tr>\n",
       "  </thead>\n",
       "  <tbody>\n",
       "    <tr>\n",
       "      <th>0</th>\n",
       "      <td>CVNA</td>\n",
       "      <td>fq3-2021</td>\n",
       "      <td>Brian Nagel, CFA</td>\n",
       "      <td>-0.40</td>\n",
       "      <td>Oppenheimer_26</td>\n",
       "    </tr>\n",
       "    <tr>\n",
       "      <th>1</th>\n",
       "      <td>CVNA</td>\n",
       "      <td>fq3-2021</td>\n",
       "      <td>Dominantstock</td>\n",
       "      <td>-0.29</td>\n",
       "      <td>Dominantstock</td>\n",
       "    </tr>\n",
       "    <tr>\n",
       "      <th>2</th>\n",
       "      <td>CVNA</td>\n",
       "      <td>fq3-2021</td>\n",
       "      <td>Analyst_9769330</td>\n",
       "      <td>-0.29</td>\n",
       "      <td>Analyst_9769330</td>\n",
       "    </tr>\n",
       "    <tr>\n",
       "      <th>3</th>\n",
       "      <td>CVNA</td>\n",
       "      <td>fq3-2021</td>\n",
       "      <td>Bill</td>\n",
       "      <td>-0.24</td>\n",
       "      <td>BillB1210</td>\n",
       "    </tr>\n",
       "    <tr>\n",
       "      <th>4</th>\n",
       "      <td>CVNA</td>\n",
       "      <td>fq3-2021</td>\n",
       "      <td>Analyst_9630672</td>\n",
       "      <td>-0.18</td>\n",
       "      <td>Analyst_9630672</td>\n",
       "    </tr>\n",
       "  </tbody>\n",
       "</table>\n",
       "</div>"
      ],
      "text/plain": [
       "  ticker      year          Analysts  value       Analyst_id\n",
       "0   CVNA  fq3-2021  Brian Nagel, CFA  -0.40   Oppenheimer_26\n",
       "1   CVNA  fq3-2021     Dominantstock  -0.29    Dominantstock\n",
       "2   CVNA  fq3-2021   Analyst_9769330  -0.29  Analyst_9769330\n",
       "3   CVNA  fq3-2021              Bill  -0.24        BillB1210\n",
       "4   CVNA  fq3-2021   Analyst_9630672  -0.18  Analyst_9630672"
      ]
     },
     "execution_count": 7,
     "metadata": {},
     "output_type": "execute_result"
    }
   ],
   "source": [
    "predictions_quarterly.head()"
   ]
  },
  {
   "cell_type": "code",
   "execution_count": 13,
   "id": "b32a8b56",
   "metadata": {
    "ExecuteTime": {
     "end_time": "2021-12-09T08:07:28.889065Z",
     "start_time": "2021-12-09T08:07:28.880089Z"
    }
   },
   "outputs": [],
   "source": [
    "p=re.compile(r'-')\n",
    "xa=[]\n",
    "for x in predictions_quarterly['value']:\n",
    "    if x =='-':\n",
    "        a=x.replace('-','')\n",
    "        xa.append(a)\n",
    "    else:\n",
    "        xa.append(x)\n",
    "\n",
    "predictions_quarterly['est_value']=xa"
   ]
  },
  {
   "cell_type": "code",
   "execution_count": 14,
   "id": "5f46334f",
   "metadata": {
    "ExecuteTime": {
     "end_time": "2021-12-09T08:07:33.240764Z",
     "start_time": "2021-12-09T08:07:33.232781Z"
    }
   },
   "outputs": [],
   "source": [
    "predictions_quarterly['est_value'].fillna(0, inplace = True)"
   ]
  },
  {
   "cell_type": "code",
   "execution_count": 15,
   "id": "7986f2f9",
   "metadata": {
    "ExecuteTime": {
     "end_time": "2021-12-09T08:07:34.083180Z",
     "start_time": "2021-12-09T08:07:34.079191Z"
    }
   },
   "outputs": [],
   "source": [
    "predictions_quarterly = predictions_quarterly.drop(columns='value')\n",
    "predictions_quarterly = predictions_quarterly.rename(columns ={'est_value':'value'})\n"
   ]
  },
  {
   "cell_type": "code",
   "execution_count": 30,
   "id": "853e0706",
   "metadata": {
    "ExecuteTime": {
     "end_time": "2021-12-09T16:21:20.367054Z",
     "start_time": "2021-12-09T16:21:20.348131Z"
    }
   },
   "outputs": [
    {
     "data": {
      "text/html": [
       "<div>\n",
       "<style scoped>\n",
       "    .dataframe tbody tr th:only-of-type {\n",
       "        vertical-align: middle;\n",
       "    }\n",
       "\n",
       "    .dataframe tbody tr th {\n",
       "        vertical-align: top;\n",
       "    }\n",
       "\n",
       "    .dataframe thead th {\n",
       "        text-align: right;\n",
       "    }\n",
       "</style>\n",
       "<table border=\"1\" class=\"dataframe\">\n",
       "  <thead>\n",
       "    <tr style=\"text-align: right;\">\n",
       "      <th></th>\n",
       "      <th>ticker</th>\n",
       "      <th>year</th>\n",
       "      <th>Analysts</th>\n",
       "      <th>value</th>\n",
       "      <th>Analyst_id</th>\n",
       "    </tr>\n",
       "  </thead>\n",
       "  <tbody>\n",
       "    <tr>\n",
       "      <th>0</th>\n",
       "      <td>CVNA</td>\n",
       "      <td>fq3-2021</td>\n",
       "      <td>Brian Nagel, CFA</td>\n",
       "      <td>-0.40</td>\n",
       "      <td>Oppenheimer_26</td>\n",
       "    </tr>\n",
       "    <tr>\n",
       "      <th>1</th>\n",
       "      <td>CVNA</td>\n",
       "      <td>fq3-2021</td>\n",
       "      <td>Dominantstock</td>\n",
       "      <td>-0.29</td>\n",
       "      <td>Dominantstock</td>\n",
       "    </tr>\n",
       "    <tr>\n",
       "      <th>2</th>\n",
       "      <td>CVNA</td>\n",
       "      <td>fq3-2021</td>\n",
       "      <td>Analyst_9769330</td>\n",
       "      <td>-0.29</td>\n",
       "      <td>Analyst_9769330</td>\n",
       "    </tr>\n",
       "    <tr>\n",
       "      <th>3</th>\n",
       "      <td>CVNA</td>\n",
       "      <td>fq3-2021</td>\n",
       "      <td>Bill</td>\n",
       "      <td>-0.24</td>\n",
       "      <td>BillB1210</td>\n",
       "    </tr>\n",
       "    <tr>\n",
       "      <th>4</th>\n",
       "      <td>CVNA</td>\n",
       "      <td>fq3-2021</td>\n",
       "      <td>Analyst_9630672</td>\n",
       "      <td>-0.18</td>\n",
       "      <td>Analyst_9630672</td>\n",
       "    </tr>\n",
       "    <tr>\n",
       "      <th>...</th>\n",
       "      <td>...</td>\n",
       "      <td>...</td>\n",
       "      <td>...</td>\n",
       "      <td>...</td>\n",
       "      <td>...</td>\n",
       "    </tr>\n",
       "    <tr>\n",
       "      <th>2460</th>\n",
       "      <td>NKTR</td>\n",
       "      <td>fq4-2020</td>\n",
       "      <td>Jay Olson, CFA</td>\n",
       "      <td>-0.80</td>\n",
       "      <td>Oppenheimer_52</td>\n",
       "    </tr>\n",
       "    <tr>\n",
       "      <th>2461</th>\n",
       "      <td>NKTR</td>\n",
       "      <td>fq4-2020</td>\n",
       "      <td>NKTR Reported Earnings</td>\n",
       "      <td>-0.65</td>\n",
       "      <td>default</td>\n",
       "    </tr>\n",
       "    <tr>\n",
       "      <th>2462</th>\n",
       "      <td>NKTR</td>\n",
       "      <td>fq4-2020</td>\n",
       "      <td>Estimize Consensus</td>\n",
       "      <td>-0.62</td>\n",
       "      <td>default</td>\n",
       "    </tr>\n",
       "    <tr>\n",
       "      <th>2463</th>\n",
       "      <td>NKTR</td>\n",
       "      <td>fq4-2020</td>\n",
       "      <td>Estimize Mean</td>\n",
       "      <td>-0.65</td>\n",
       "      <td>default</td>\n",
       "    </tr>\n",
       "    <tr>\n",
       "      <th>2464</th>\n",
       "      <td>NKTR</td>\n",
       "      <td>fq4-2020</td>\n",
       "      <td>Wall Street Consensus</td>\n",
       "      <td>-0.68</td>\n",
       "      <td>default</td>\n",
       "    </tr>\n",
       "  </tbody>\n",
       "</table>\n",
       "<p>2465 rows × 5 columns</p>\n",
       "</div>"
      ],
      "text/plain": [
       "     ticker      year                Analysts  value       Analyst_id\n",
       "0      CVNA  fq3-2021        Brian Nagel, CFA  -0.40   Oppenheimer_26\n",
       "1      CVNA  fq3-2021           Dominantstock  -0.29    Dominantstock\n",
       "2      CVNA  fq3-2021         Analyst_9769330  -0.29  Analyst_9769330\n",
       "3      CVNA  fq3-2021                    Bill  -0.24        BillB1210\n",
       "4      CVNA  fq3-2021         Analyst_9630672  -0.18  Analyst_9630672\n",
       "...     ...       ...                     ...    ...              ...\n",
       "2460   NKTR  fq4-2020          Jay Olson, CFA  -0.80   Oppenheimer_52\n",
       "2461   NKTR  fq4-2020  NKTR Reported Earnings  -0.65          default\n",
       "2462   NKTR  fq4-2020      Estimize Consensus  -0.62          default\n",
       "2463   NKTR  fq4-2020           Estimize Mean  -0.65          default\n",
       "2464   NKTR  fq4-2020   Wall Street Consensus  -0.68          default\n",
       "\n",
       "[2465 rows x 5 columns]"
      ]
     },
     "execution_count": 30,
     "metadata": {},
     "output_type": "execute_result"
    }
   ],
   "source": [
    "predictions_quarterly"
   ]
  },
  {
   "cell_type": "markdown",
   "id": "689fee6d",
   "metadata": {},
   "source": [
    "### creation and insertion of data into \"predictions_quarterly\" table"
   ]
  },
  {
   "cell_type": "code",
   "execution_count": 63,
   "id": "952b7ae2",
   "metadata": {
    "ExecuteTime": {
     "end_time": "2021-12-09T16:21:31.860382Z",
     "start_time": "2021-12-09T16:21:23.369534Z"
    }
   },
   "outputs": [
    {
     "name": "stdout",
     "output_type": "stream",
     "text": [
      "Error while connecting to MySQL 1045 (28000): Access denied for user 'root'@'localhost' (using password: YES)\n"
     ]
    }
   ],
   "source": [
    "import mysql.connector as msql\n",
    "from mysql.connector import Error\n",
    "try:\n",
    "    conn = msql.connect(host='localhost', database='estimize', user='root', password='NatiAug!#10')\n",
    "    if conn.is_connected():\n",
    "        cursor = conn.cursor()\n",
    "        cursor.execute(\"select database();\")\n",
    "        record = cursor.fetchone()\n",
    "        print(\"connected to database: \", record)\n",
    "        cursor.execute('DROP TABLE IF EXISTS predictions_quarterly;')\n",
    "        print('Creating table....')\n",
    "# in the below line please pass the create table statement which you want #to create\n",
    "        cursor.execute(\"CREATE TABLE predictions_quarterly(ticker varchar(255),year varchar(255),Analysts varchar(255),value float(8,3),Analyst_id varchar(255), FOREIGN KEY(ticker) REFERENCES  company_info(tickers))\")\n",
    "        print(\"Table is created....\")\n",
    "        #loop through the data frame\n",
    "        for i,row in predictions_quarterly.iterrows():\n",
    "            #here %S means string values \n",
    "            sql = \"INSERT INTO estimize.predictions_quarterly VALUES (%s,%s,%s,%s,%s)\"\n",
    "            cursor.execute(sql, tuple(row))\n",
    "            #print(\"Record inserted\")\n",
    "            # the connection is not auto committed by default, so we must commit to save our changes\n",
    "            conn.commit()\n",
    "except Error as e:\n",
    "            print(\"Error while connecting to MySQL\", e)"
   ]
  },
  {
   "cell_type": "code",
   "execution_count": 77,
   "id": "ff4c0151",
   "metadata": {
    "ExecuteTime": {
     "end_time": "2021-12-09T16:21:31.875223Z",
     "start_time": "2021-12-09T16:21:31.861375Z"
    }
   },
   "outputs": [],
   "source": [
    "import pandas as pd\n",
    "analysts_info = pd.read_excel('C:/Users/admin/Desktop/Data Management for Analytics/Analyst_Info.xlsx')\n",
    "analysts_info = analysts_info.where((pd.notnull(analysts_info)), None)"
   ]
  },
  {
   "cell_type": "code",
   "execution_count": 78,
   "id": "66348648",
   "metadata": {
    "ExecuteTime": {
     "end_time": "2021-12-09T15:02:06.409967Z",
     "start_time": "2021-12-09T15:02:06.396003Z"
    }
   },
   "outputs": [
    {
     "data": {
      "text/html": [
       "<div>\n",
       "<style scoped>\n",
       "    .dataframe tbody tr th:only-of-type {\n",
       "        vertical-align: middle;\n",
       "    }\n",
       "\n",
       "    .dataframe tbody tr th {\n",
       "        vertical-align: top;\n",
       "    }\n",
       "\n",
       "    .dataframe thead th {\n",
       "        text-align: right;\n",
       "    }\n",
       "</style>\n",
       "<table border=\"1\" class=\"dataframe\">\n",
       "  <thead>\n",
       "    <tr style=\"text-align: right;\">\n",
       "      <th></th>\n",
       "      <th>AnalystID</th>\n",
       "      <th>Name</th>\n",
       "      <th>Role</th>\n",
       "      <th>Analyst_Confidence_Score</th>\n",
       "      <th>Error_rate</th>\n",
       "      <th>Accuracy_Percentile</th>\n",
       "      <th>Points</th>\n",
       "      <th>Points_Estimate</th>\n",
       "      <th>Stocks</th>\n",
       "      <th>Pending</th>\n",
       "      <th>newDate</th>\n",
       "    </tr>\n",
       "  </thead>\n",
       "  <tbody>\n",
       "    <tr>\n",
       "      <th>0</th>\n",
       "      <td>analyst_9404487</td>\n",
       "      <td>Rasun</td>\n",
       "      <td>None</td>\n",
       "      <td>7.8</td>\n",
       "      <td>0.18</td>\n",
       "      <td>0.58</td>\n",
       "      <td>1651.0</td>\n",
       "      <td>10.0</td>\n",
       "      <td>141.0</td>\n",
       "      <td>162.0</td>\n",
       "      <td>Jul 2019</td>\n",
       "    </tr>\n",
       "    <tr>\n",
       "      <th>1</th>\n",
       "      <td>analyst_6216740</td>\n",
       "      <td>Analyst_6216740</td>\n",
       "      <td>Non Professional Information Technology Commun...</td>\n",
       "      <td>7.3</td>\n",
       "      <td>0.15</td>\n",
       "      <td>0.55</td>\n",
       "      <td>517.0</td>\n",
       "      <td>15.0</td>\n",
       "      <td>30.0</td>\n",
       "      <td>35.0</td>\n",
       "      <td>Jul 2015</td>\n",
       "    </tr>\n",
       "    <tr>\n",
       "      <th>2</th>\n",
       "      <td>analyst_530056</td>\n",
       "      <td>Analyst_530056</td>\n",
       "      <td>None</td>\n",
       "      <td>5.5</td>\n",
       "      <td>0.16</td>\n",
       "      <td>0.41</td>\n",
       "      <td>3029.0</td>\n",
       "      <td>6.0</td>\n",
       "      <td>67.0</td>\n",
       "      <td>513.0</td>\n",
       "      <td>Jun 2017</td>\n",
       "    </tr>\n",
       "    <tr>\n",
       "      <th>3</th>\n",
       "      <td>analyst_8278771</td>\n",
       "      <td>Analyst_8278771</td>\n",
       "      <td>Non Professional Other Other</td>\n",
       "      <td>6.9</td>\n",
       "      <td>0.05</td>\n",
       "      <td>0.76</td>\n",
       "      <td>41.0</td>\n",
       "      <td>41.0</td>\n",
       "      <td>1.0</td>\n",
       "      <td>1.0</td>\n",
       "      <td>Jun 2020</td>\n",
       "    </tr>\n",
       "    <tr>\n",
       "      <th>4</th>\n",
       "      <td>analyst_9872866</td>\n",
       "      <td>Analyst_9872866</td>\n",
       "      <td>Non Professional Other Other</td>\n",
       "      <td>7.0</td>\n",
       "      <td>0.12</td>\n",
       "      <td>0.53</td>\n",
       "      <td>203.0</td>\n",
       "      <td>10.0</td>\n",
       "      <td>20.0</td>\n",
       "      <td>20.0</td>\n",
       "      <td>May 2020</td>\n",
       "    </tr>\n",
       "  </tbody>\n",
       "</table>\n",
       "</div>"
      ],
      "text/plain": [
       "         AnalystID             Name  \\\n",
       "0  analyst_9404487            Rasun   \n",
       "1  analyst_6216740  Analyst_6216740   \n",
       "2   analyst_530056   Analyst_530056   \n",
       "3  analyst_8278771  Analyst_8278771   \n",
       "4  analyst_9872866  Analyst_9872866   \n",
       "\n",
       "                                                Role  \\\n",
       "0                                               None   \n",
       "1  Non Professional Information Technology Commun...   \n",
       "2                                               None   \n",
       "3                       Non Professional Other Other   \n",
       "4                       Non Professional Other Other   \n",
       "\n",
       "   Analyst_Confidence_Score  Error_rate  Accuracy_Percentile  Points  \\\n",
       "0                       7.8        0.18                 0.58  1651.0   \n",
       "1                       7.3        0.15                 0.55   517.0   \n",
       "2                       5.5        0.16                 0.41  3029.0   \n",
       "3                       6.9        0.05                 0.76    41.0   \n",
       "4                       7.0        0.12                 0.53   203.0   \n",
       "\n",
       "   Points_Estimate  Stocks  Pending   newDate  \n",
       "0             10.0   141.0    162.0  Jul 2019  \n",
       "1             15.0    30.0     35.0  Jul 2015  \n",
       "2              6.0    67.0    513.0  Jun 2017  \n",
       "3             41.0     1.0      1.0  Jun 2020  \n",
       "4             10.0    20.0     20.0  May 2020  "
      ]
     },
     "execution_count": 78,
     "metadata": {},
     "output_type": "execute_result"
    }
   ],
   "source": [
    "analysts_info.head()"
   ]
  },
  {
   "cell_type": "markdown",
   "id": "917e9d4d",
   "metadata": {},
   "source": [
    "### creation and insertion of data into \"analysts_info\" table"
   ]
  },
  {
   "cell_type": "code",
   "execution_count": 79,
   "id": "a168357d",
   "metadata": {
    "ExecuteTime": {
     "end_time": "2021-12-09T16:21:33.172611Z",
     "start_time": "2021-12-09T16:21:31.877214Z"
    }
   },
   "outputs": [
    {
     "name": "stdout",
     "output_type": "stream",
     "text": [
      "You're connected to database:  ('estimize',)\n",
      "Creating table....\n",
      "Error while connecting to MySQL 1062 (23000): Duplicate entry 'Bill' for key 'analyst_info.PRIMARY'\n"
     ]
    }
   ],
   "source": [
    "import mysql.connector as msql\n",
    "from mysql.connector import Error\n",
    "try:\n",
    "    conn = msql.connect(host='localhost', database='estimize', user='root', password='123456789')\n",
    "    if conn.is_connected():\n",
    "        cursor = conn.cursor()\n",
    "        cursor.execute(\"select database();\")\n",
    "        record = cursor.fetchone()\n",
    "        print(\"You're connected to database: \", record)\n",
    "        cursor.execute('DROP TABLE IF EXISTS analyst_info;')\n",
    "        print('Creating table....')\n",
    "        cursor.execute(\"CREATE TABLE analyst_info(name varchar(255),analyst_id varchar(255),role varchar(255),Analyst_Confidence_Score varchar(255),error_rate varchar(255),accuracy_percentile int, points varchar(255), points_estimate varchar(255), stocks int, pending_estimates int, newDate varchar(255),Primary key (analyst_id))\")\n",
    "\n",
    "        for i,row in analysts_info.iterrows():\n",
    "            #here %S means string values \n",
    "            sql = \"INSERT INTO estimize.analyst_info VALUES (%s,%s,%s,%s,%s,%s,%s,%s,%s,%s,%s)\"\n",
    "            cursor.execute(sql, tuple(row))\n",
    "            \n",
    "            conn.commit()\n",
    "except Error as e:\n",
    "            print(\"Error while connecting to MySQL\", e)\n",
    "        "
   ]
  },
  {
   "cell_type": "markdown",
   "id": "d8024aaf",
   "metadata": {},
   "source": [
    "### creation and insertion of data into \"stocks_scored\" table"
   ]
  },
  {
   "cell_type": "code",
   "execution_count": 62,
   "id": "099be012",
   "metadata": {
    "ExecuteTime": {
     "end_time": "2021-12-09T16:21:36.588315Z",
     "start_time": "2021-12-09T16:21:36.552268Z"
    }
   },
   "outputs": [
    {
     "ename": "FileNotFoundError",
     "evalue": "[Errno 2] No such file or directory: 'C:/Users/arunk/Downloads/DM_Project_Files/stocks_scored_keerthi.csv'",
     "output_type": "error",
     "traceback": [
      "\u001b[1;31m---------------------------------------------------------------------------\u001b[0m",
      "\u001b[1;31mFileNotFoundError\u001b[0m                         Traceback (most recent call last)",
      "\u001b[1;32mc:\\Users\\admin\\Downloads\\MSA8040_DataManagement_Final_Project_code.ipynb Cell 65\u001b[0m in \u001b[0;36m<cell line: 3>\u001b[1;34m()\u001b[0m\n\u001b[0;32m      <a href='vscode-notebook-cell:/c%3A/Users/admin/Downloads/MSA8040_DataManagement_Final_Project_code.ipynb#Y116sZmlsZQ%3D%3D?line=0'>1</a>\u001b[0m \u001b[39mimport\u001b[39;00m \u001b[39mpandas\u001b[39;00m \u001b[39mas\u001b[39;00m \u001b[39mpd\u001b[39;00m\n\u001b[1;32m----> <a href='vscode-notebook-cell:/c%3A/Users/admin/Downloads/MSA8040_DataManagement_Final_Project_code.ipynb#Y116sZmlsZQ%3D%3D?line=2'>3</a>\u001b[0m stocks_scored \u001b[39m=\u001b[39m pd\u001b[39m.\u001b[39;49mread_csv(\u001b[39m'\u001b[39;49m\u001b[39mC:/Users/arunk/Downloads/DM_Project_Files/stocks_scored_keerthi.csv\u001b[39;49m\u001b[39m'\u001b[39;49m)\n\u001b[0;32m      <a href='vscode-notebook-cell:/c%3A/Users/admin/Downloads/MSA8040_DataManagement_Final_Project_code.ipynb#Y116sZmlsZQ%3D%3D?line=3'>4</a>\u001b[0m stocks_scored\n",
      "File \u001b[1;32mc:\\Users\\admin\\anaconda3\\lib\\site-packages\\pandas\\util\\_decorators.py:311\u001b[0m, in \u001b[0;36mdeprecate_nonkeyword_arguments.<locals>.decorate.<locals>.wrapper\u001b[1;34m(*args, **kwargs)\u001b[0m\n\u001b[0;32m    305\u001b[0m \u001b[39mif\u001b[39;00m \u001b[39mlen\u001b[39m(args) \u001b[39m>\u001b[39m num_allow_args:\n\u001b[0;32m    306\u001b[0m     warnings\u001b[39m.\u001b[39mwarn(\n\u001b[0;32m    307\u001b[0m         msg\u001b[39m.\u001b[39mformat(arguments\u001b[39m=\u001b[39marguments),\n\u001b[0;32m    308\u001b[0m         \u001b[39mFutureWarning\u001b[39;00m,\n\u001b[0;32m    309\u001b[0m         stacklevel\u001b[39m=\u001b[39mstacklevel,\n\u001b[0;32m    310\u001b[0m     )\n\u001b[1;32m--> 311\u001b[0m \u001b[39mreturn\u001b[39;00m func(\u001b[39m*\u001b[39margs, \u001b[39m*\u001b[39m\u001b[39m*\u001b[39mkwargs)\n",
      "File \u001b[1;32mc:\\Users\\admin\\anaconda3\\lib\\site-packages\\pandas\\io\\parsers\\readers.py:680\u001b[0m, in \u001b[0;36mread_csv\u001b[1;34m(filepath_or_buffer, sep, delimiter, header, names, index_col, usecols, squeeze, prefix, mangle_dupe_cols, dtype, engine, converters, true_values, false_values, skipinitialspace, skiprows, skipfooter, nrows, na_values, keep_default_na, na_filter, verbose, skip_blank_lines, parse_dates, infer_datetime_format, keep_date_col, date_parser, dayfirst, cache_dates, iterator, chunksize, compression, thousands, decimal, lineterminator, quotechar, quoting, doublequote, escapechar, comment, encoding, encoding_errors, dialect, error_bad_lines, warn_bad_lines, on_bad_lines, delim_whitespace, low_memory, memory_map, float_precision, storage_options)\u001b[0m\n\u001b[0;32m    665\u001b[0m kwds_defaults \u001b[39m=\u001b[39m _refine_defaults_read(\n\u001b[0;32m    666\u001b[0m     dialect,\n\u001b[0;32m    667\u001b[0m     delimiter,\n\u001b[1;32m   (...)\u001b[0m\n\u001b[0;32m    676\u001b[0m     defaults\u001b[39m=\u001b[39m{\u001b[39m\"\u001b[39m\u001b[39mdelimiter\u001b[39m\u001b[39m\"\u001b[39m: \u001b[39m\"\u001b[39m\u001b[39m,\u001b[39m\u001b[39m\"\u001b[39m},\n\u001b[0;32m    677\u001b[0m )\n\u001b[0;32m    678\u001b[0m kwds\u001b[39m.\u001b[39mupdate(kwds_defaults)\n\u001b[1;32m--> 680\u001b[0m \u001b[39mreturn\u001b[39;00m _read(filepath_or_buffer, kwds)\n",
      "File \u001b[1;32mc:\\Users\\admin\\anaconda3\\lib\\site-packages\\pandas\\io\\parsers\\readers.py:575\u001b[0m, in \u001b[0;36m_read\u001b[1;34m(filepath_or_buffer, kwds)\u001b[0m\n\u001b[0;32m    572\u001b[0m _validate_names(kwds\u001b[39m.\u001b[39mget(\u001b[39m\"\u001b[39m\u001b[39mnames\u001b[39m\u001b[39m\"\u001b[39m, \u001b[39mNone\u001b[39;00m))\n\u001b[0;32m    574\u001b[0m \u001b[39m# Create the parser.\u001b[39;00m\n\u001b[1;32m--> 575\u001b[0m parser \u001b[39m=\u001b[39m TextFileReader(filepath_or_buffer, \u001b[39m*\u001b[39m\u001b[39m*\u001b[39mkwds)\n\u001b[0;32m    577\u001b[0m \u001b[39mif\u001b[39;00m chunksize \u001b[39mor\u001b[39;00m iterator:\n\u001b[0;32m    578\u001b[0m     \u001b[39mreturn\u001b[39;00m parser\n",
      "File \u001b[1;32mc:\\Users\\admin\\anaconda3\\lib\\site-packages\\pandas\\io\\parsers\\readers.py:933\u001b[0m, in \u001b[0;36mTextFileReader.__init__\u001b[1;34m(self, f, engine, **kwds)\u001b[0m\n\u001b[0;32m    930\u001b[0m     \u001b[39mself\u001b[39m\u001b[39m.\u001b[39moptions[\u001b[39m\"\u001b[39m\u001b[39mhas_index_names\u001b[39m\u001b[39m\"\u001b[39m] \u001b[39m=\u001b[39m kwds[\u001b[39m\"\u001b[39m\u001b[39mhas_index_names\u001b[39m\u001b[39m\"\u001b[39m]\n\u001b[0;32m    932\u001b[0m \u001b[39mself\u001b[39m\u001b[39m.\u001b[39mhandles: IOHandles \u001b[39m|\u001b[39m \u001b[39mNone\u001b[39;00m \u001b[39m=\u001b[39m \u001b[39mNone\u001b[39;00m\n\u001b[1;32m--> 933\u001b[0m \u001b[39mself\u001b[39m\u001b[39m.\u001b[39m_engine \u001b[39m=\u001b[39m \u001b[39mself\u001b[39;49m\u001b[39m.\u001b[39;49m_make_engine(f, \u001b[39mself\u001b[39;49m\u001b[39m.\u001b[39;49mengine)\n",
      "File \u001b[1;32mc:\\Users\\admin\\anaconda3\\lib\\site-packages\\pandas\\io\\parsers\\readers.py:1217\u001b[0m, in \u001b[0;36mTextFileReader._make_engine\u001b[1;34m(self, f, engine)\u001b[0m\n\u001b[0;32m   1213\u001b[0m     mode \u001b[39m=\u001b[39m \u001b[39m\"\u001b[39m\u001b[39mrb\u001b[39m\u001b[39m\"\u001b[39m\n\u001b[0;32m   1214\u001b[0m \u001b[39m# error: No overload variant of \"get_handle\" matches argument types\u001b[39;00m\n\u001b[0;32m   1215\u001b[0m \u001b[39m# \"Union[str, PathLike[str], ReadCsvBuffer[bytes], ReadCsvBuffer[str]]\"\u001b[39;00m\n\u001b[0;32m   1216\u001b[0m \u001b[39m# , \"str\", \"bool\", \"Any\", \"Any\", \"Any\", \"Any\", \"Any\"\u001b[39;00m\n\u001b[1;32m-> 1217\u001b[0m \u001b[39mself\u001b[39m\u001b[39m.\u001b[39mhandles \u001b[39m=\u001b[39m get_handle(  \u001b[39m# type: ignore[call-overload]\u001b[39;49;00m\n\u001b[0;32m   1218\u001b[0m     f,\n\u001b[0;32m   1219\u001b[0m     mode,\n\u001b[0;32m   1220\u001b[0m     encoding\u001b[39m=\u001b[39;49m\u001b[39mself\u001b[39;49m\u001b[39m.\u001b[39;49moptions\u001b[39m.\u001b[39;49mget(\u001b[39m\"\u001b[39;49m\u001b[39mencoding\u001b[39;49m\u001b[39m\"\u001b[39;49m, \u001b[39mNone\u001b[39;49;00m),\n\u001b[0;32m   1221\u001b[0m     compression\u001b[39m=\u001b[39;49m\u001b[39mself\u001b[39;49m\u001b[39m.\u001b[39;49moptions\u001b[39m.\u001b[39;49mget(\u001b[39m\"\u001b[39;49m\u001b[39mcompression\u001b[39;49m\u001b[39m\"\u001b[39;49m, \u001b[39mNone\u001b[39;49;00m),\n\u001b[0;32m   1222\u001b[0m     memory_map\u001b[39m=\u001b[39;49m\u001b[39mself\u001b[39;49m\u001b[39m.\u001b[39;49moptions\u001b[39m.\u001b[39;49mget(\u001b[39m\"\u001b[39;49m\u001b[39mmemory_map\u001b[39;49m\u001b[39m\"\u001b[39;49m, \u001b[39mFalse\u001b[39;49;00m),\n\u001b[0;32m   1223\u001b[0m     is_text\u001b[39m=\u001b[39;49mis_text,\n\u001b[0;32m   1224\u001b[0m     errors\u001b[39m=\u001b[39;49m\u001b[39mself\u001b[39;49m\u001b[39m.\u001b[39;49moptions\u001b[39m.\u001b[39;49mget(\u001b[39m\"\u001b[39;49m\u001b[39mencoding_errors\u001b[39;49m\u001b[39m\"\u001b[39;49m, \u001b[39m\"\u001b[39;49m\u001b[39mstrict\u001b[39;49m\u001b[39m\"\u001b[39;49m),\n\u001b[0;32m   1225\u001b[0m     storage_options\u001b[39m=\u001b[39;49m\u001b[39mself\u001b[39;49m\u001b[39m.\u001b[39;49moptions\u001b[39m.\u001b[39;49mget(\u001b[39m\"\u001b[39;49m\u001b[39mstorage_options\u001b[39;49m\u001b[39m\"\u001b[39;49m, \u001b[39mNone\u001b[39;49;00m),\n\u001b[0;32m   1226\u001b[0m )\n\u001b[0;32m   1227\u001b[0m \u001b[39massert\u001b[39;00m \u001b[39mself\u001b[39m\u001b[39m.\u001b[39mhandles \u001b[39mis\u001b[39;00m \u001b[39mnot\u001b[39;00m \u001b[39mNone\u001b[39;00m\n\u001b[0;32m   1228\u001b[0m f \u001b[39m=\u001b[39m \u001b[39mself\u001b[39m\u001b[39m.\u001b[39mhandles\u001b[39m.\u001b[39mhandle\n",
      "File \u001b[1;32mc:\\Users\\admin\\anaconda3\\lib\\site-packages\\pandas\\io\\common.py:789\u001b[0m, in \u001b[0;36mget_handle\u001b[1;34m(path_or_buf, mode, encoding, compression, memory_map, is_text, errors, storage_options)\u001b[0m\n\u001b[0;32m    784\u001b[0m \u001b[39melif\u001b[39;00m \u001b[39misinstance\u001b[39m(handle, \u001b[39mstr\u001b[39m):\n\u001b[0;32m    785\u001b[0m     \u001b[39m# Check whether the filename is to be opened in binary mode.\u001b[39;00m\n\u001b[0;32m    786\u001b[0m     \u001b[39m# Binary mode does not support 'encoding' and 'newline'.\u001b[39;00m\n\u001b[0;32m    787\u001b[0m     \u001b[39mif\u001b[39;00m ioargs\u001b[39m.\u001b[39mencoding \u001b[39mand\u001b[39;00m \u001b[39m\"\u001b[39m\u001b[39mb\u001b[39m\u001b[39m\"\u001b[39m \u001b[39mnot\u001b[39;00m \u001b[39min\u001b[39;00m ioargs\u001b[39m.\u001b[39mmode:\n\u001b[0;32m    788\u001b[0m         \u001b[39m# Encoding\u001b[39;00m\n\u001b[1;32m--> 789\u001b[0m         handle \u001b[39m=\u001b[39m \u001b[39mopen\u001b[39;49m(\n\u001b[0;32m    790\u001b[0m             handle,\n\u001b[0;32m    791\u001b[0m             ioargs\u001b[39m.\u001b[39;49mmode,\n\u001b[0;32m    792\u001b[0m             encoding\u001b[39m=\u001b[39;49mioargs\u001b[39m.\u001b[39;49mencoding,\n\u001b[0;32m    793\u001b[0m             errors\u001b[39m=\u001b[39;49merrors,\n\u001b[0;32m    794\u001b[0m             newline\u001b[39m=\u001b[39;49m\u001b[39m\"\u001b[39;49m\u001b[39m\"\u001b[39;49m,\n\u001b[0;32m    795\u001b[0m         )\n\u001b[0;32m    796\u001b[0m     \u001b[39melse\u001b[39;00m:\n\u001b[0;32m    797\u001b[0m         \u001b[39m# Binary mode\u001b[39;00m\n\u001b[0;32m    798\u001b[0m         handle \u001b[39m=\u001b[39m \u001b[39mopen\u001b[39m(handle, ioargs\u001b[39m.\u001b[39mmode)\n",
      "\u001b[1;31mFileNotFoundError\u001b[0m: [Errno 2] No such file or directory: 'C:/Users/arunk/Downloads/DM_Project_Files/stocks_scored_keerthi.csv'"
     ]
    }
   ],
   "source": [
    "import pandas as pd\n",
    "\n",
    "stocks_scored = pd.read_csv('C:/Users/arunk/Downloads/DM_Project_Files/stocks_scored_keerthi.csv')\n",
    "stocks_scored"
   ]
  },
  {
   "cell_type": "code",
   "execution_count": null,
   "id": "e7c95dff",
   "metadata": {
    "ExecuteTime": {
     "end_time": "2021-12-09T16:22:04.068394Z",
     "start_time": "2021-12-09T16:21:39.367533Z"
    }
   },
   "outputs": [
    {
     "name": "stdout",
     "output_type": "stream",
     "text": [
      "You're connected to database:  ('estimize',)\n",
      "Creating table....\n",
      "Table is created....\n"
     ]
    }
   ],
   "source": [
    "import mysql.connector as msql\n",
    "from mysql.connector import Error\n",
    "try:\n",
    "    conn = msql.connect(host='localhost', database='estimize', user='root', password='NatiAug!#10')\n",
    "    if conn.is_connected():\n",
    "        cursor = conn.cursor()\n",
    "        cursor.execute(\"select database();\")\n",
    "        record = cursor.fetchone()\n",
    "        print(\"You're connected to database: \", record)\n",
    "        cursor.execute('DROP TABLE IF EXISTS stocks_scored;')\n",
    "        print('Creating table....')\n",
    "        cursor.execute(\"CREATE TABLE stocks_scored(ticker varchar(255),quarters varchar(255),reported varchar(255),rank_scored varchar(255),eps_points float(5,2),revenue_points float(5,2),total_points int, analyst_id varchar(255),composite_keys varchar(255),primary key (composite_keys) )\")\n",
    "        print(\"Table is created....\")\n",
    "\n",
    "        for i,row in stocks_scored.iterrows():\n",
    "             \n",
    "            sql = \"INSERT INTO estimize.stocks_scored VALUES (%s,%s,%s,%s,%s,%s,%s,%s,%s)\"\n",
    "            cursor.execute(sql, tuple(row))            \n",
    "            conn.commit()\n",
    "except Error as e:\n",
    "            print(\"Error while connecting to MySQL\", e)"
   ]
  },
  {
   "cell_type": "markdown",
   "id": "1a1a8cf3",
   "metadata": {},
   "source": [
    "### creation and insertion of data into \"Stocks_pending\" table"
   ]
  },
  {
   "cell_type": "code",
   "execution_count": null,
   "id": "d14f93ba",
   "metadata": {
    "ExecuteTime": {
     "end_time": "2021-12-09T16:22:04.084349Z",
     "start_time": "2021-12-09T16:22:04.070386Z"
    }
   },
   "outputs": [],
   "source": [
    "import pandas as pd\n",
    "\n",
    "stocks_pending = pd.read_csv('C:/Users/arunk/Downloads/DM_Project_Files/stocks_pending_keerthi.csv')\n",
    "stocks_pending\n",
    "\n",
    "stocks_pending = stocks_pending.where((pd.notnull(stocks_pending)), None)"
   ]
  },
  {
   "cell_type": "code",
   "execution_count": 37,
   "id": "ab9669c7",
   "metadata": {
    "ExecuteTime": {
     "end_time": "2021-12-09T16:22:04.100304Z",
     "start_time": "2021-12-09T16:22:04.086343Z"
    }
   },
   "outputs": [
    {
     "data": {
      "text/html": [
       "<div>\n",
       "<style scoped>\n",
       "    .dataframe tbody tr th:only-of-type {\n",
       "        vertical-align: middle;\n",
       "    }\n",
       "\n",
       "    .dataframe tbody tr th {\n",
       "        vertical-align: top;\n",
       "    }\n",
       "\n",
       "    .dataframe thead th {\n",
       "        text-align: right;\n",
       "    }\n",
       "</style>\n",
       "<table border=\"1\" class=\"dataframe\">\n",
       "  <thead>\n",
       "    <tr style=\"text-align: right;\">\n",
       "      <th></th>\n",
       "      <th>Ticker</th>\n",
       "      <th>Quarter</th>\n",
       "      <th>Reports</th>\n",
       "      <th>Published</th>\n",
       "      <th>EPS</th>\n",
       "      <th>Revenue</th>\n",
       "      <th>Analyst_id</th>\n",
       "      <th>stocks_pending_composite</th>\n",
       "    </tr>\n",
       "  </thead>\n",
       "  <tbody>\n",
       "    <tr>\n",
       "      <th>0</th>\n",
       "      <td>FIZZ</td>\n",
       "      <td>Q2 2022</td>\n",
       "      <td>Dec 9, 2021 BMO</td>\n",
       "      <td>Mar 5, 2021 278 days ago</td>\n",
       "      <td>0.52</td>\n",
       "      <td>283.76</td>\n",
       "      <td>Dominantstock</td>\n",
       "      <td>dominantstockfizzQ22022</td>\n",
       "    </tr>\n",
       "    <tr>\n",
       "      <th>1</th>\n",
       "      <td>CIEN</td>\n",
       "      <td>Q4 2021</td>\n",
       "      <td>Dec 9, 2021 BMO</td>\n",
       "      <td>Jan 27, 2021 315 days ago</td>\n",
       "      <td>0.92</td>\n",
       "      <td>1036.0</td>\n",
       "      <td>Dominantstock</td>\n",
       "      <td>dominantstockcienQ42021</td>\n",
       "    </tr>\n",
       "    <tr>\n",
       "      <th>2</th>\n",
       "      <td>MTN</td>\n",
       "      <td>Q1 2022</td>\n",
       "      <td>Dec 9, 2021 AMC</td>\n",
       "      <td>Apr 22, 2021 230 days ago</td>\n",
       "      <td>-2.8</td>\n",
       "      <td>252.26</td>\n",
       "      <td>Dominantstock</td>\n",
       "      <td>dominantstockmtnQ12022</td>\n",
       "    </tr>\n",
       "    <tr>\n",
       "      <th>3</th>\n",
       "      <td>GRUB</td>\n",
       "      <td>Q3 2021</td>\n",
       "      <td>Dec 10, 2021 AMC</td>\n",
       "      <td>Nov 4, 2020 399 days ago</td>\n",
       "      <td>0.28</td>\n",
       "      <td>560.13</td>\n",
       "      <td>Dominantstock</td>\n",
       "      <td>dominantstockgrubQ32021</td>\n",
       "    </tr>\n",
       "    <tr>\n",
       "      <th>4</th>\n",
       "      <td>TTC</td>\n",
       "      <td>Q4 2021</td>\n",
       "      <td>Dec 15, 2021 BMO</td>\n",
       "      <td>Aug 4, 2021 126 days ago</td>\n",
       "      <td>0.65</td>\n",
       "      <td>868.43</td>\n",
       "      <td>Dominantstock</td>\n",
       "      <td>dominantstockttcQ42021</td>\n",
       "    </tr>\n",
       "    <tr>\n",
       "      <th>...</th>\n",
       "      <td>...</td>\n",
       "      <td>...</td>\n",
       "      <td>...</td>\n",
       "      <td>...</td>\n",
       "      <td>...</td>\n",
       "      <td>...</td>\n",
       "      <td>...</td>\n",
       "      <td>...</td>\n",
       "    </tr>\n",
       "    <tr>\n",
       "      <th>1611</th>\n",
       "      <td>CRSP</td>\n",
       "      <td>Q3 2022</td>\n",
       "      <td>Nov 2, 2022 AMC</td>\n",
       "      <td>Aug 13, 2021 117 days ago</td>\n",
       "      <td>-1.8</td>\n",
       "      <td>6.4</td>\n",
       "      <td>Canaccord_202</td>\n",
       "      <td>canaccord_202crspQ32022</td>\n",
       "    </tr>\n",
       "    <tr>\n",
       "      <th>1612</th>\n",
       "      <td>HALO</td>\n",
       "      <td>Q3 2022</td>\n",
       "      <td>Nov 7, 2022 AMC</td>\n",
       "      <td>1-Dec-21</td>\n",
       "      <td>0.35</td>\n",
       "      <td>103.3</td>\n",
       "      <td>Canaccord_202</td>\n",
       "      <td>canaccord_202haloQ32022</td>\n",
       "    </tr>\n",
       "    <tr>\n",
       "      <th>1613</th>\n",
       "      <td>HALO</td>\n",
       "      <td>Q4 2022</td>\n",
       "      <td>Feb 27, 2023 AMC</td>\n",
       "      <td>1-Dec-21</td>\n",
       "      <td>0.35</td>\n",
       "      <td>103.81</td>\n",
       "      <td>Canaccord_202</td>\n",
       "      <td>canaccord_202haloQ42022</td>\n",
       "    </tr>\n",
       "    <tr>\n",
       "      <th>1614</th>\n",
       "      <td>BPMC</td>\n",
       "      <td>Q4 2022</td>\n",
       "      <td>Mar 10, 2023 BMO</td>\n",
       "      <td>Jun 17, 2021 174 days ago</td>\n",
       "      <td>0.55</td>\n",
       "      <td>139.6</td>\n",
       "      <td>Canaccord_202</td>\n",
       "      <td>canaccord_202bpmcQ42022</td>\n",
       "    </tr>\n",
       "    <tr>\n",
       "      <th>1615</th>\n",
       "      <td>CRSP</td>\n",
       "      <td>Q4 2022</td>\n",
       "      <td>Mar 10, 2023 AMC</td>\n",
       "      <td>Aug 13, 2021 117 days ago</td>\n",
       "      <td>1.2</td>\n",
       "      <td>263.8</td>\n",
       "      <td>Canaccord_202</td>\n",
       "      <td>canaccord_202crspQ42022</td>\n",
       "    </tr>\n",
       "  </tbody>\n",
       "</table>\n",
       "<p>1616 rows × 8 columns</p>\n",
       "</div>"
      ],
      "text/plain": [
       "     Ticker  Quarter           Reports                  Published   EPS  \\\n",
       "0      FIZZ  Q2 2022   Dec 9, 2021 BMO   Mar 5, 2021 278 days ago  0.52   \n",
       "1      CIEN  Q4 2021   Dec 9, 2021 BMO  Jan 27, 2021 315 days ago  0.92   \n",
       "2       MTN  Q1 2022   Dec 9, 2021 AMC  Apr 22, 2021 230 days ago  -2.8   \n",
       "3      GRUB  Q3 2021  Dec 10, 2021 AMC   Nov 4, 2020 399 days ago  0.28   \n",
       "4       TTC  Q4 2021  Dec 15, 2021 BMO   Aug 4, 2021 126 days ago  0.65   \n",
       "...     ...      ...               ...                        ...   ...   \n",
       "1611   CRSP  Q3 2022   Nov 2, 2022 AMC  Aug 13, 2021 117 days ago  -1.8   \n",
       "1612   HALO  Q3 2022   Nov 7, 2022 AMC                   1-Dec-21  0.35   \n",
       "1613   HALO  Q4 2022  Feb 27, 2023 AMC                   1-Dec-21  0.35   \n",
       "1614   BPMC  Q4 2022  Mar 10, 2023 BMO  Jun 17, 2021 174 days ago  0.55   \n",
       "1615   CRSP  Q4 2022  Mar 10, 2023 AMC  Aug 13, 2021 117 days ago   1.2   \n",
       "\n",
       "     Revenue     Analyst_id stocks_pending_composite  \n",
       "0     283.76  Dominantstock  dominantstockfizzQ22022  \n",
       "1     1036.0  Dominantstock  dominantstockcienQ42021  \n",
       "2     252.26  Dominantstock   dominantstockmtnQ12022  \n",
       "3     560.13  Dominantstock  dominantstockgrubQ32021  \n",
       "4     868.43  Dominantstock   dominantstockttcQ42021  \n",
       "...      ...            ...                      ...  \n",
       "1611     6.4  Canaccord_202  canaccord_202crspQ32022  \n",
       "1612   103.3  Canaccord_202  canaccord_202haloQ32022  \n",
       "1613  103.81  Canaccord_202  canaccord_202haloQ42022  \n",
       "1614   139.6  Canaccord_202  canaccord_202bpmcQ42022  \n",
       "1615   263.8  Canaccord_202  canaccord_202crspQ42022  \n",
       "\n",
       "[1616 rows x 8 columns]"
      ]
     },
     "execution_count": 37,
     "metadata": {},
     "output_type": "execute_result"
    }
   ],
   "source": [
    "stocks_pending"
   ]
  },
  {
   "cell_type": "code",
   "execution_count": 38,
   "id": "6ffab7d3",
   "metadata": {
    "ExecuteTime": {
     "end_time": "2021-12-09T16:22:10.447682Z",
     "start_time": "2021-12-09T16:22:04.102299Z"
    }
   },
   "outputs": [
    {
     "name": "stdout",
     "output_type": "stream",
     "text": [
      "You're connected to database:  ('estimize',)\n",
      "Creating table....\n",
      "Table is created....\n"
     ]
    }
   ],
   "source": [
    "import mysql.connector as msql\n",
    "from mysql.connector import Error\n",
    "try:\n",
    "    conn = msql.connect(host='localhost', database='estimize', user='root', password='NatiAug!#10')\n",
    "    if conn.is_connected():\n",
    "        cursor = conn.cursor()\n",
    "        cursor.execute(\"select database();\")\n",
    "        record = cursor.fetchone()\n",
    "        print(\"You're connected to database: \", record)\n",
    "        cursor.execute('DROP TABLE IF EXISTS stocks_pending;')\n",
    "        print('Creating table....')\n",
    "        cursor.execute(\"CREATE TABLE stocks_pending(ticker varchar(255),quarter varchar(255),reports varchar(255),published varchar(255),eps float(25,2),revenue float(25,2), analyst_id varchar(255),stocks_pending_composite varchar(255),primary key(stocks_pending_composite))\")\n",
    "        print(\"Table is created....\")\n",
    "\n",
    "        for i,row in stocks_pending.iterrows():\n",
    "            #here %S means string values \n",
    "            sql = \"INSERT INTO estimize.stocks_pending VALUES (%s,%s,%s,%s,%s,%s,%s,%s)\"\n",
    "            cursor.execute(sql, tuple(row))\n",
    "            #print(\"Record inserted\")\n",
    "            \n",
    "            conn.commit()\n",
    "except Error as e:\n",
    "            print(\"Error while connecting to MySQL\", e)"
   ]
  },
  {
   "cell_type": "markdown",
   "id": "c60fb2fd",
   "metadata": {},
   "source": [
    "### creation and insertion of data into \"stocks_covered\" tabl"
   ]
  },
  {
   "cell_type": "code",
   "execution_count": 39,
   "id": "551355a5",
   "metadata": {
    "ExecuteTime": {
     "end_time": "2021-12-09T16:22:13.595226Z",
     "start_time": "2021-12-09T16:22:13.568298Z"
    }
   },
   "outputs": [
    {
     "data": {
      "text/html": [
       "<div>\n",
       "<style scoped>\n",
       "    .dataframe tbody tr th:only-of-type {\n",
       "        vertical-align: middle;\n",
       "    }\n",
       "\n",
       "    .dataframe tbody tr th {\n",
       "        vertical-align: top;\n",
       "    }\n",
       "\n",
       "    .dataframe thead th {\n",
       "        text-align: right;\n",
       "    }\n",
       "</style>\n",
       "<table border=\"1\" class=\"dataframe\">\n",
       "  <thead>\n",
       "    <tr style=\"text-align: right;\">\n",
       "      <th></th>\n",
       "      <th>Ticker</th>\n",
       "      <th>Reports</th>\n",
       "      <th>Quarters</th>\n",
       "      <th>Points</th>\n",
       "      <th>Pts_Est</th>\n",
       "      <th>Error_Rate</th>\n",
       "      <th>Accuracy</th>\n",
       "      <th>Analyst_id</th>\n",
       "    </tr>\n",
       "  </thead>\n",
       "  <tbody>\n",
       "    <tr>\n",
       "      <th>0</th>\n",
       "      <td>AAPL</td>\n",
       "      <td>1-Feb</td>\n",
       "      <td>16</td>\n",
       "      <td>-125</td>\n",
       "      <td>-7.8</td>\n",
       "      <td>11.8</td>\n",
       "      <td>20</td>\n",
       "      <td>Dominantstock</td>\n",
       "    </tr>\n",
       "    <tr>\n",
       "      <th>1</th>\n",
       "      <td>JBT</td>\n",
       "      <td>22-Feb</td>\n",
       "      <td>16</td>\n",
       "      <td>73</td>\n",
       "      <td>4.6</td>\n",
       "      <td>10.1</td>\n",
       "      <td>27</td>\n",
       "      <td>Dominantstock</td>\n",
       "    </tr>\n",
       "    <tr>\n",
       "      <th>2</th>\n",
       "      <td>VEEV</td>\n",
       "      <td>1-Mar</td>\n",
       "      <td>15</td>\n",
       "      <td>-61</td>\n",
       "      <td>-4.1</td>\n",
       "      <td>8.7</td>\n",
       "      <td>16</td>\n",
       "      <td>Dominantstock</td>\n",
       "    </tr>\n",
       "    <tr>\n",
       "      <th>3</th>\n",
       "      <td>CAT</td>\n",
       "      <td>27-Jan</td>\n",
       "      <td>15</td>\n",
       "      <td>-254</td>\n",
       "      <td>-16.9</td>\n",
       "      <td>19.6</td>\n",
       "      <td>13</td>\n",
       "      <td>Dominantstock</td>\n",
       "    </tr>\n",
       "    <tr>\n",
       "      <th>4</th>\n",
       "      <td>BABA</td>\n",
       "      <td>2-Feb</td>\n",
       "      <td>15</td>\n",
       "      <td>23</td>\n",
       "      <td>1.5</td>\n",
       "      <td>11.7</td>\n",
       "      <td>40</td>\n",
       "      <td>Dominantstock</td>\n",
       "    </tr>\n",
       "    <tr>\n",
       "      <th>...</th>\n",
       "      <td>...</td>\n",
       "      <td>...</td>\n",
       "      <td>...</td>\n",
       "      <td>...</td>\n",
       "      <td>...</td>\n",
       "      <td>...</td>\n",
       "      <td>...</td>\n",
       "      <td>...</td>\n",
       "    </tr>\n",
       "    <tr>\n",
       "      <th>4174</th>\n",
       "      <td>BPMC</td>\n",
       "      <td>11-Mar</td>\n",
       "      <td>4</td>\n",
       "      <td>62</td>\n",
       "      <td>13.8</td>\n",
       "      <td>19.4</td>\n",
       "      <td>45</td>\n",
       "      <td>Canaccord_202</td>\n",
       "    </tr>\n",
       "    <tr>\n",
       "      <th>4175</th>\n",
       "      <td>CRSP</td>\n",
       "      <td>11-Mar</td>\n",
       "      <td>2</td>\n",
       "      <td>15</td>\n",
       "      <td>6.0</td>\n",
       "      <td>74.0</td>\n",
       "      <td>60</td>\n",
       "      <td>Canaccord_202</td>\n",
       "    </tr>\n",
       "    <tr>\n",
       "      <th>4176</th>\n",
       "      <td>BNTX</td>\n",
       "      <td>5-Apr</td>\n",
       "      <td>1</td>\n",
       "      <td>-10</td>\n",
       "      <td>-10.0</td>\n",
       "      <td>19.9</td>\n",
       "      <td>30</td>\n",
       "      <td>Canaccord_202</td>\n",
       "    </tr>\n",
       "    <tr>\n",
       "      <th>4177</th>\n",
       "      <td>NKTR</td>\n",
       "      <td>3-Mar</td>\n",
       "      <td>1</td>\n",
       "      <td>6</td>\n",
       "      <td>6.0</td>\n",
       "      <td>8.1</td>\n",
       "      <td>56</td>\n",
       "      <td>Analyst_8423568</td>\n",
       "    </tr>\n",
       "    <tr>\n",
       "      <th>4178</th>\n",
       "      <td>NKTR</td>\n",
       "      <td>3-Mar</td>\n",
       "      <td>1</td>\n",
       "      <td>6</td>\n",
       "      <td>6.0</td>\n",
       "      <td>16.9</td>\n",
       "      <td>43</td>\n",
       "      <td>Analyst_6016449</td>\n",
       "    </tr>\n",
       "  </tbody>\n",
       "</table>\n",
       "<p>4179 rows × 8 columns</p>\n",
       "</div>"
      ],
      "text/plain": [
       "     Ticker Reports  Quarters  Points  Pts_Est  Error_Rate  Accuracy  \\\n",
       "0      AAPL   1-Feb        16    -125     -7.8        11.8        20   \n",
       "1       JBT  22-Feb        16      73      4.6        10.1        27   \n",
       "2      VEEV   1-Mar        15     -61     -4.1         8.7        16   \n",
       "3       CAT  27-Jan        15    -254    -16.9        19.6        13   \n",
       "4      BABA   2-Feb        15      23      1.5        11.7        40   \n",
       "...     ...     ...       ...     ...      ...         ...       ...   \n",
       "4174   BPMC  11-Mar         4      62     13.8        19.4        45   \n",
       "4175   CRSP  11-Mar         2      15      6.0        74.0        60   \n",
       "4176   BNTX   5-Apr         1     -10    -10.0        19.9        30   \n",
       "4177   NKTR   3-Mar         1       6      6.0         8.1        56   \n",
       "4178   NKTR   3-Mar         1       6      6.0        16.9        43   \n",
       "\n",
       "           Analyst_id  \n",
       "0       Dominantstock  \n",
       "1       Dominantstock  \n",
       "2       Dominantstock  \n",
       "3       Dominantstock  \n",
       "4       Dominantstock  \n",
       "...               ...  \n",
       "4174    Canaccord_202  \n",
       "4175    Canaccord_202  \n",
       "4176    Canaccord_202  \n",
       "4177  Analyst_8423568  \n",
       "4178  Analyst_6016449  \n",
       "\n",
       "[4179 rows x 8 columns]"
      ]
     },
     "execution_count": 39,
     "metadata": {},
     "output_type": "execute_result"
    }
   ],
   "source": [
    "import pandas as pd\n",
    "\n",
    "stocks_covered = pd.read_csv('C:/Users/arunk/Downloads/DM_Project_Files/stocks_covered_keerthi.csv')\n",
    "stocks_covered"
   ]
  },
  {
   "cell_type": "code",
   "execution_count": 22,
   "id": "8a32cfbe",
   "metadata": {
    "ExecuteTime": {
     "end_time": "2021-12-09T16:22:29.088864Z",
     "start_time": "2021-12-09T16:22:15.765546Z"
    }
   },
   "outputs": [
    {
     "name": "stdout",
     "output_type": "stream",
     "text": [
      "You're connected to database:  ('estimize',)\n"
     ]
    }
   ],
   "source": [
    "import mysql.connector as msql\n",
    "from mysql.connector import Error\n",
    "try:\n",
    "    conn = msql.connect(host='localhost', database='estimize', user='root', password='123456789')\n",
    "    if conn.is_connected():\n",
    "        cursor = conn.cursor()\n",
    "        cursor.execute(\"select database();\")\n",
    "        record = cursor.fetchone()\n",
    "        print(\"You're connected to database: \", record)\n",
    "       # cursor.execute('DROP TABLE IF EXISTS stocks_covered;')\n",
    "        \n",
    "        #cursor.execute(\"CREATE TABLE stocks_covered(ticker varchar(255),reports varchar(255),Quarters int,points int,pts_est float(5,2),error_rate float(5,2), accuracy int,analyst_id varchar(255))\")\n",
    "        #print(\"Table is created....\")\n",
    "\n",
    "        #for i,row in stocks_covered.iterrows():\n",
    "            #here %S means string values \n",
    "            #sql = \"INSERT INTO estimize.stocks_covered VALUES (%s,%s,%s,%s,%s,%s,%s,%s)\"\n",
    "            #cursor.execute(sql, tuple(row))\n",
    "            #print(\"Record inserted\")\n",
    "            \n",
    "            #conn.commit()\n",
    "except Error as e:\n",
    "            print(\"Error while connecting to MySQL\", e)"
   ]
  },
  {
   "cell_type": "code",
   "execution_count": null,
   "id": "3a09a0df",
   "metadata": {},
   "outputs": [],
   "source": []
  },
  {
   "cell_type": "markdown",
   "id": "a01c16e4",
   "metadata": {},
   "source": [
    "### Table size information"
   ]
  },
  {
   "cell_type": "code",
   "execution_count": 23,
   "id": "a08a3a16",
   "metadata": {
    "ExecuteTime": {
     "end_time": "2021-12-09T18:31:49.474991Z",
     "start_time": "2021-12-09T18:31:49.456646Z"
    }
   },
   "outputs": [
    {
     "name": "stdout",
     "output_type": "stream",
     "text": [
      "company_info (30, 50)\n",
      "analysts_info (8764, 11)\n"
     ]
    }
   ],
   "source": [
    "print ('company_info',company_info.shape)\n",
    "#print ('predictions_quarterly',predictions_quarterly.shape)\n",
    "print('analysts_info',analysts_info.shape)\n",
    "#print('stocks_covered',stocks_covered.shape)\n",
    "#print('stocks_pending',stocks_pending.shape)\n",
    "#print('stocks_scored',stocks_scored.shape)"
   ]
  },
  {
   "cell_type": "code",
   "execution_count": null,
   "id": "526eab08",
   "metadata": {},
   "outputs": [],
   "source": []
  },
  {
   "cell_type": "markdown",
   "id": "3e7cec2f",
   "metadata": {},
   "source": [
    "# ---------------------- BONUS -----------------------------------"
   ]
  },
  {
   "cell_type": "markdown",
   "id": "c1ff1534",
   "metadata": {},
   "source": [
    "### Regression Analysis"
   ]
  },
  {
   "cell_type": "code",
   "execution_count": 24,
   "id": "774d198c",
   "metadata": {
    "ExecuteTime": {
     "end_time": "2021-12-09T19:09:14.502673Z",
     "start_time": "2021-12-09T19:09:14.333385Z"
    }
   },
   "outputs": [],
   "source": [
    "import pandas as pd\n",
    "import seaborn as sns\n",
    "import matplotlib.pyplot as plt\n",
    "%matplotlib inline"
   ]
  },
  {
   "cell_type": "code",
   "execution_count": 25,
   "id": "3d051c1d",
   "metadata": {
    "ExecuteTime": {
     "end_time": "2021-12-09T19:16:36.670341Z",
     "start_time": "2021-12-09T19:16:36.635906Z"
    }
   },
   "outputs": [
    {
     "ename": "NameError",
     "evalue": "name 'stocks_covered' is not defined",
     "output_type": "error",
     "traceback": [
      "\u001b[1;31m---------------------------------------------------------------------------\u001b[0m",
      "\u001b[1;31mNameError\u001b[0m                                 Traceback (most recent call last)",
      "\u001b[1;32mc:\\Users\\admin\\Downloads\\MSA8040_DataManagement_Final_Project_code.ipynb Cell 80\u001b[0m in \u001b[0;36m<cell line: 1>\u001b[1;34m()\u001b[0m\n\u001b[1;32m----> <a href='vscode-notebook-cell:/c%3A/Users/admin/Downloads/MSA8040_DataManagement_Final_Project_code.ipynb#Y141sZmlsZQ%3D%3D?line=0'>1</a>\u001b[0m df5 \u001b[39m=\u001b[39m analysts_info\u001b[39m.\u001b[39mmerge(stocks_covered ,how\u001b[39m=\u001b[39m\u001b[39m'\u001b[39m\u001b[39minner\u001b[39m\u001b[39m'\u001b[39m,left_on \u001b[39m=\u001b[39m \u001b[39m'\u001b[39m\u001b[39manalyst_id\u001b[39m\u001b[39m'\u001b[39m,right_on\u001b[39m=\u001b[39m\u001b[39m'\u001b[39m\u001b[39mAnalyst_id\u001b[39m\u001b[39m'\u001b[39m )\n",
      "\u001b[1;31mNameError\u001b[0m: name 'stocks_covered' is not defined"
     ]
    }
   ],
   "source": [
    "df5 = analysts_info.merge(stocks_covered ,how='inner',left_on = 'analyst_id',right_on='Analyst_id' )"
   ]
  },
  {
   "cell_type": "code",
   "execution_count": 100,
   "id": "ecdf8a73",
   "metadata": {
    "ExecuteTime": {
     "end_time": "2021-12-09T19:47:13.075534Z",
     "start_time": "2021-12-09T19:47:12.551163Z"
    }
   },
   "outputs": [
    {
     "data": {
      "text/plain": [
       "<AxesSubplot:>"
      ]
     },
     "execution_count": 100,
     "metadata": {},
     "output_type": "execute_result"
    },
    {
     "data": {
      "image/png": "[encoded data removed]",
      "text/plain": [
       "<Figure size 576x432 with 2 Axes>"
      ]
     },
     "metadata": {
      "needs_background": "light"
     },
     "output_type": "display_data"
    }
   ],
   "source": [
    "plt.figure(figsize=(8,6))\n",
    "sns.heatmap(analysts_info.corr(),annot=True) "
   ]
  },
  {
   "cell_type": "code",
   "execution_count": 64,
   "id": "283abafb",
   "metadata": {
    "ExecuteTime": {
     "end_time": "2021-12-09T19:21:13.192604Z",
     "start_time": "2021-12-09T19:21:13.182021Z"
    }
   },
   "outputs": [
    {
     "data": {
      "text/plain": [
       "Index(['name', 'analyst_id', 'roles', 'join_date', 'analyst_confidence',\n",
       "       'error_rate', 'accuracy_percentile', 'points', 'points_estimate',\n",
       "       'stocks', 'pending_estimates'],\n",
       "      dtype='object')"
      ]
     },
     "execution_count": 64,
     "metadata": {},
     "output_type": "execute_result"
    }
   ],
   "source": [
    "analysts_info.columns"
   ]
  },
  {
   "cell_type": "code",
   "execution_count": 71,
   "id": "f657050d",
   "metadata": {
    "ExecuteTime": {
     "end_time": "2021-12-09T19:31:43.890007Z",
     "start_time": "2021-12-09T19:31:43.878003Z"
    }
   },
   "outputs": [],
   "source": [
    "x = analysts_info[['analyst_confidence','accuracy_percentile','stocks','pending_estimates']] #independent variables\n",
    "\n",
    "y= analysts_info[['error_rate']] # dependent variables"
   ]
  },
  {
   "cell_type": "code",
   "execution_count": 87,
   "id": "f719cb6f",
   "metadata": {
    "ExecuteTime": {
     "end_time": "2021-12-09T19:45:33.769141Z",
     "start_time": "2021-12-09T19:45:33.754217Z"
    }
   },
   "outputs": [],
   "source": [
    "from sklearn.model_selection import train_test_split\n",
    "X_train, X_test, y_train, y_test = train_test_split(x,y,random_state=51,test_size=0.3)"
   ]
  },
  {
   "cell_type": "markdown",
   "id": "f8080eb0",
   "metadata": {},
   "source": [
    "### Scaling using Standard Scaler"
   ]
  },
  {
   "cell_type": "code",
   "execution_count": 88,
   "id": "1754018d",
   "metadata": {
    "ExecuteTime": {
     "end_time": "2021-12-09T19:45:34.530139Z",
     "start_time": "2021-12-09T19:45:34.503862Z"
    }
   },
   "outputs": [],
   "source": [
    "# Normalising the data is also an option\n",
    "\n",
    "from sklearn.preprocessing import StandardScaler\n",
    "\n",
    "sc = StandardScaler()\n",
    "X_train = sc.fit_transform(X_train)\n",
    "X_test = sc.transform(X_test)"
   ]
  },
  {
   "cell_type": "markdown",
   "id": "f4f93fde",
   "metadata": {},
   "source": [
    "### Linear Regression"
   ]
  },
  {
   "cell_type": "code",
   "execution_count": 89,
   "id": "2ba9b334",
   "metadata": {
    "ExecuteTime": {
     "end_time": "2021-12-09T19:45:35.310154Z",
     "start_time": "2021-12-09T19:45:35.295681Z"
    }
   },
   "outputs": [
    {
     "data": {
      "text/plain": [
       "LinearRegression(fit_intercept=False)"
      ]
     },
     "execution_count": 89,
     "metadata": {},
     "output_type": "execute_result"
    }
   ],
   "source": [
    "from sklearn.linear_model import LinearRegression  # Import Linear Regression model\n",
    "from sklearn.metrics import r2_score  # For find accuracy with R2 Score\n",
    "from sklearn.metrics import mean_squared_error  # For MSE\n",
    "from math import sqrt \n",
    "linear_reg = LinearRegression(fit_intercept=False)  # Create a instance for Linear Regression model\n",
    "linear_reg.fit(X_train, y_train)  # Fit data to the model"
   ]
  },
  {
   "cell_type": "code",
   "execution_count": 90,
   "id": "1491be68",
   "metadata": {
    "ExecuteTime": {
     "end_time": "2021-12-09T19:45:36.231845Z",
     "start_time": "2021-12-09T19:45:36.227855Z"
    }
   },
   "outputs": [],
   "source": [
    "y_pred_LR_train = linear_reg.predict(X_train)\n",
    "\n",
    "# Prediction with testing dataset:\n",
    "y_pred_LR_test = linear_reg.predict(X_test)"
   ]
  },
  {
   "cell_type": "code",
   "execution_count": 104,
   "id": "99e5de1e",
   "metadata": {
    "ExecuteTime": {
     "end_time": "2021-12-09T19:52:34.796541Z",
     "start_time": "2021-12-09T19:52:34.784572Z"
    }
   },
   "outputs": [
    {
     "name": "stdout",
     "output_type": "stream",
     "text": [
      "Testing Accuracy for Linear Regression Model:  -0.22184540609087589\n",
      "RMSE for Testing Data:  15.795122515929348\n"
     ]
    }
   ],
   "source": [
    "accuracy_LR_train = r2_score(y_train, y_pred_LR_train)\n",
    "\n",
    "# Find testing accuracy for this model:\n",
    "accuracy_LR_test = r2_score(y_test, y_pred_LR_test)\n",
    "print(\"Testing Accuracy for Linear Regression Model: \", accuracy_LR_test)\n",
    "\n",
    "# Find RMSE for testing data:\n",
    "RMSE_LR_test = sqrt(mean_squared_error(y_test, y_pred_LR_test))\n",
    "print(\"RMSE for Testing Data: \", RMSE_LR_test)\n",
    "\n"
   ]
  },
  {
   "cell_type": "markdown",
   "id": "4b020dac",
   "metadata": {
    "ExecuteTime": {
     "end_time": "2021-12-09T19:46:10.590218Z",
     "start_time": "2021-12-09T19:46:10.575728Z"
    }
   },
   "source": [
    "### Random Forest Regressor"
   ]
  },
  {
   "cell_type": "code",
   "execution_count": 117,
   "id": "3fc75047",
   "metadata": {
    "ExecuteTime": {
     "end_time": "2021-12-09T19:55:32.909726Z",
     "start_time": "2021-12-09T19:55:32.810131Z"
    }
   },
   "outputs": [
    {
     "name": "stderr",
     "output_type": "stream",
     "text": [
      "<ipython-input-117-6dd641c28d6a>:4: DataConversionWarning: A column-vector y was passed when a 1d array was expected. Please change the shape of y to (n_samples,), for example using ravel().\n",
      "  random_forest_reg.fit(X_train, y_train)  # Fit data to the model\n"
     ]
    },
    {
     "data": {
      "text/plain": [
       "RandomForestRegressor(max_depth=2, random_state=13)"
      ]
     },
     "execution_count": 117,
     "metadata": {},
     "output_type": "execute_result"
    }
   ],
   "source": [
    "from sklearn.ensemble import RandomForestRegressor  # Import Random Forest Regression model\n",
    "\n",
    "random_forest_reg = RandomForestRegressor(n_estimators=100, max_depth=2, random_state=13)  # Create a instance for Random Forest Regression model\n",
    "random_forest_reg.fit(X_train, y_train)  # Fit data to the model"
   ]
  },
  {
   "cell_type": "code",
   "execution_count": 118,
   "id": "d2f0f844",
   "metadata": {
    "ExecuteTime": {
     "end_time": "2021-12-09T19:55:34.763610Z",
     "start_time": "2021-12-09T19:55:34.728175Z"
    }
   },
   "outputs": [
    {
     "name": "stdout",
     "output_type": "stream",
     "text": [
      "Testing Accuracy for Random Forest Regression Model:  0.5962595138715812\n",
      "RMSE for Testing Data:  9.079585435575726\n"
     ]
    }
   ],
   "source": [
    "# Prediction with training dataset:\n",
    "y_pred_RFR_train = random_forest_reg.predict(X_train)\n",
    "\n",
    "# Prediction with testing dataset:\n",
    "y_pred_RFR_test = random_forest_reg.predict(X_test)\n",
    "\n",
    "# Find testing accuracy for this model:\n",
    "accuracy_RFR_test = r2_score(y_test, y_pred_RFR_test)\n",
    "print(\"Testing Accuracy for Random Forest Regression Model: \", accuracy_RFR_test)\n",
    "\n",
    "\n",
    "# Find RMSE for testing data:\n",
    "RMSE_RFR_test = sqrt(mean_squared_error(y_test, y_pred_RFR_test))\n",
    "print(\"RMSE for Testing Data: \", RMSE_RFR_test)"
   ]
  },
  {
   "cell_type": "code",
   "execution_count": null,
   "id": "baf83825",
   "metadata": {},
   "outputs": [],
   "source": []
  },
  {
   "cell_type": "code",
   "execution_count": 106,
   "id": "7108c896",
   "metadata": {},
   "outputs": [
    {
     "data": {
      "text/html": [
       "<div>\n",
       "<style scoped>\n",
       "    .dataframe tbody tr th:only-of-type {\n",
       "        vertical-align: middle;\n",
       "    }\n",
       "\n",
       "    .dataframe tbody tr th {\n",
       "        vertical-align: top;\n",
       "    }\n",
       "\n",
       "    .dataframe thead th {\n",
       "        text-align: right;\n",
       "    }\n",
       "</style>\n",
       "<table border=\"1\" class=\"dataframe\">\n",
       "  <thead>\n",
       "    <tr style=\"text-align: right;\">\n",
       "      <th></th>\n",
       "      <th>ticker</th>\n",
       "      <th>Quarter</th>\n",
       "      <th>Analysts</th>\n",
       "      <th>eps_estimates</th>\n",
       "      <th>Analyst_id</th>\n",
       "      <th>Confidence</th>\n",
       "      <th>Points</th>\n",
       "    </tr>\n",
       "  </thead>\n",
       "  <tbody>\n",
       "    <tr>\n",
       "      <th>0</th>\n",
       "      <td>adbe</td>\n",
       "      <td>fq1-2020</td>\n",
       "      <td>Sam0808</td>\n",
       "      <td>2.27</td>\n",
       "      <td>Sam0808</td>\n",
       "      <td>4.2</td>\n",
       "      <td>25</td>\n",
       "    </tr>\n",
       "    <tr>\n",
       "      <th>1</th>\n",
       "      <td>adbe</td>\n",
       "      <td>fq1-2020</td>\n",
       "      <td>Redhawk</td>\n",
       "      <td>2.27</td>\n",
       "      <td>Redhawk</td>\n",
       "      <td>4.8</td>\n",
       "      <td>25</td>\n",
       "    </tr>\n",
       "    <tr>\n",
       "      <th>2</th>\n",
       "      <td>adbe</td>\n",
       "      <td>fq1-2020</td>\n",
       "      <td>Aram Balian</td>\n",
       "      <td>2.27</td>\n",
       "      <td>ABalian</td>\n",
       "      <td>5.6</td>\n",
       "      <td>25</td>\n",
       "    </tr>\n",
       "    <tr>\n",
       "      <th>3</th>\n",
       "      <td>adbe</td>\n",
       "      <td>fq1-2020</td>\n",
       "      <td>Analyst_530056</td>\n",
       "      <td>2.27</td>\n",
       "      <td>Analyst_530056</td>\n",
       "      <td>4.8</td>\n",
       "      <td>25</td>\n",
       "    </tr>\n",
       "    <tr>\n",
       "      <th>4</th>\n",
       "      <td>adbe</td>\n",
       "      <td>fq1-2020</td>\n",
       "      <td>Tappa69</td>\n",
       "      <td>2.27</td>\n",
       "      <td>Tappa69</td>\n",
       "      <td>5.8</td>\n",
       "      <td>25</td>\n",
       "    </tr>\n",
       "    <tr>\n",
       "      <th>...</th>\n",
       "      <td>...</td>\n",
       "      <td>...</td>\n",
       "      <td>...</td>\n",
       "      <td>...</td>\n",
       "      <td>...</td>\n",
       "      <td>...</td>\n",
       "      <td>...</td>\n",
       "    </tr>\n",
       "    <tr>\n",
       "      <th>32632</th>\n",
       "      <td>msft</td>\n",
       "      <td>fq2-2022</td>\n",
       "      <td>Analyst_3644621</td>\n",
       "      <td>2.17</td>\n",
       "      <td>Analyst_3644621</td>\n",
       "      <td>217</td>\n",
       "      <td>1.4</td>\n",
       "    </tr>\n",
       "    <tr>\n",
       "      <th>32633</th>\n",
       "      <td>msft</td>\n",
       "      <td>fq2-2022</td>\n",
       "      <td>Analyst_8741577</td>\n",
       "      <td>2.80</td>\n",
       "      <td>Analyst_8741577</td>\n",
       "      <td>218</td>\n",
       "      <td>5.2</td>\n",
       "    </tr>\n",
       "    <tr>\n",
       "      <th>32634</th>\n",
       "      <td>msft</td>\n",
       "      <td>fq2-2022</td>\n",
       "      <td>Analyst_7950040</td>\n",
       "      <td>2.15</td>\n",
       "      <td>Analyst_7950040</td>\n",
       "      <td>219</td>\n",
       "      <td>4.6</td>\n",
       "    </tr>\n",
       "    <tr>\n",
       "      <th>32635</th>\n",
       "      <td>msft</td>\n",
       "      <td>fq2-2022</td>\n",
       "      <td>Analyst_4198204</td>\n",
       "      <td>2.09</td>\n",
       "      <td>Analyst_4198204</td>\n",
       "      <td>220</td>\n",
       "      <td>2.4</td>\n",
       "    </tr>\n",
       "    <tr>\n",
       "      <th>32636</th>\n",
       "      <td>msft</td>\n",
       "      <td>fq2-2022</td>\n",
       "      <td>Sentient420</td>\n",
       "      <td>3.00</td>\n",
       "      <td>Sentient420</td>\n",
       "      <td>221</td>\n",
       "      <td>5.5</td>\n",
       "    </tr>\n",
       "  </tbody>\n",
       "</table>\n",
       "<p>32637 rows × 7 columns</p>\n",
       "</div>"
      ],
      "text/plain": [
       "      ticker   Quarter         Analysts eps_estimates       Analyst_id  \\\n",
       "0       adbe  fq1-2020          Sam0808          2.27          Sam0808   \n",
       "1       adbe  fq1-2020          Redhawk          2.27          Redhawk   \n",
       "2       adbe  fq1-2020      Aram Balian          2.27          ABalian   \n",
       "3       adbe  fq1-2020   Analyst_530056          2.27   Analyst_530056   \n",
       "4       adbe  fq1-2020          Tappa69          2.27          Tappa69   \n",
       "...      ...       ...              ...           ...              ...   \n",
       "32632   msft  fq2-2022  Analyst_3644621          2.17  Analyst_3644621   \n",
       "32633   msft  fq2-2022  Analyst_8741577          2.80  Analyst_8741577   \n",
       "32634   msft  fq2-2022  Analyst_7950040          2.15  Analyst_7950040   \n",
       "32635   msft  fq2-2022  Analyst_4198204          2.09  Analyst_4198204   \n",
       "32636   msft  fq2-2022      Sentient420          3.00      Sentient420   \n",
       "\n",
       "      Confidence Points  \n",
       "0            4.2     25  \n",
       "1            4.8     25  \n",
       "2            5.6     25  \n",
       "3            4.8     25  \n",
       "4            5.8     25  \n",
       "...          ...    ...  \n",
       "32632        217    1.4  \n",
       "32633        218    5.2  \n",
       "32634        219    4.6  \n",
       "32635        220    2.4  \n",
       "32636        221    5.5  \n",
       "\n",
       "[32637 rows x 7 columns]"
      ]
     },
     "execution_count": 106,
     "metadata": {},
     "output_type": "execute_result"
    }
   ],
   "source": [
    "import pandas as pd\n",
    "\n",
    "eps = pd.read_excel('C:/Users/admin/Desktop/Data Management for Analytics/eps_analysts.xlsx')\n",
    "eps"
   ]
  },
  {
   "cell_type": "code",
   "execution_count": 109,
   "id": "451f300d",
   "metadata": {},
   "outputs": [
    {
     "name": "stdout",
     "output_type": "stream",
     "text": [
      "You're connected to database:  ('estimize',)\n",
      "Creating table....\n",
      "Table is created....\n"
     ]
    }
   ],
   "source": [
    "import mysql.connector as msql\n",
    "from mysql.connector import Error\n",
    "try:\n",
    "    conn = msql.connect(host='localhost', database='estimize', user='root', password='123456789')\n",
    "    if conn.is_connected():\n",
    "        cursor = conn.cursor()\n",
    "        cursor.execute(\"select database();\")\n",
    "        record = cursor.fetchone()\n",
    "        print(\"You're connected to database: \", record)\n",
    "        cursor.execute('DROP TABLE IF EXISTS eps;')\n",
    "        print('Creating table....')\n",
    "        cursor.execute(\"CREATE TABLE eps(ticker varchar(255),Quarter varchar(255),Analysts varchar(255),eps_estimates varchar(255),Analyst_id varchar(255) ,confidence varchar(255),Points varchar(255))\")\n",
    "        print(\"Table is created....\")\n",
    "\n",
    "        for i,row in eps.iterrows():\n",
    "            #here %S means string values \n",
    "            sql = \"INSERT INTO estimize.eps VALUES (%s,%s,%s,%s,%s,%s, %s)\"\n",
    "            cursor.execute(sql, tuple(row))\n",
    "            #print(\"Record inserted\")\n",
    "            \n",
    "            conn.commit()\n",
    "except Error as e:\n",
    "            print(\"Error while connecting to MySQL\", e)"
   ]
  },
  {
   "cell_type": "code",
   "execution_count": null,
   "id": "bd8ca449",
   "metadata": {},
   "outputs": [],
   "source": []
  }
 ],
 "metadata": {
  "kernelspec": {
   "display_name": "Python 3.9.12 ('base')",
   "language": "python",
   "name": "python3"
  },
  "language_info": {
   "codemirror_mode": {
    "name": "ipython",
    "version": 3
   },
   "file_extension": ".py",
   "mimetype": "text/x-python",
   "name": "python",
   "nbconvert_exporter": "python",
   "pygments_lexer": "ipython3",
   "version": "3.9.12"
  },
  "vscode": {
   "interpreter": {
    "hash": "610a6f344c2137faf927ea819c63f6cee33a2c04455044b28099f39fe9722347"
   }
  }
 },
 "nbformat": 4,
 "nbformat_minor": 5
}
